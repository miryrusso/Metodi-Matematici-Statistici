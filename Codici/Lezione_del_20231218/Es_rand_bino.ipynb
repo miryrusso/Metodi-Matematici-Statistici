{
 "cells": [
  {
   "cell_type": "code",
   "execution_count": 6,
   "id": "3be6992a",
   "metadata": {},
   "outputs": [],
   "source": [
    "# Esercizio sulla generazione di numeri random con distribuzione binomiale"
   ]
  },
  {
   "cell_type": "code",
   "execution_count": 1,
   "id": "b8e1dc03",
   "metadata": {},
   "outputs": [
    {
     "ename": "ModuleNotFoundError",
     "evalue": "No module named 'numpy'",
     "output_type": "error",
     "traceback": [
      "\u001b[1;31m---------------------------------------------------------------------------\u001b[0m",
      "\u001b[1;31mModuleNotFoundError\u001b[0m                       Traceback (most recent call last)",
      "Cell \u001b[1;32mIn[1], line 1\u001b[0m\n\u001b[1;32m----> 1\u001b[0m \u001b[38;5;28;01mimport\u001b[39;00m \u001b[38;5;21;01mnumpy\u001b[39;00m \u001b[38;5;28;01mas\u001b[39;00m \u001b[38;5;21;01mnp\u001b[39;00m\n",
      "\u001b[1;31mModuleNotFoundError\u001b[0m: No module named 'numpy'"
     ]
    }
   ],
   "source": [
    "import numpy as np"
   ]
  },
  {
   "cell_type": "code",
   "execution_count": 8,
   "id": "58de06f9",
   "metadata": {},
   "outputs": [
    {
     "data": {
      "text/plain": [
       "0.1544983183444818"
      ]
     },
     "metadata": {},
     "output_type": "display_data"
    }
   ],
   "source": [
    "x = np.random.rand()\n",
    "display(x)"
   ]
  },
  {
   "cell_type": "code",
   "execution_count": 15,
   "id": "2035f010",
   "metadata": {},
   "outputs": [
    {
     "data": {
      "text/plain": [
       "0"
      ]
     },
     "metadata": {},
     "output_type": "display_data"
    }
   ],
   "source": [
    "p = 0.2\n",
    "xi = np.random.rand()\n",
    "if xi < p:\n",
    "    X = 1\n",
    "else:\n",
    "    X = 0\n",
    "display(X)"
   ]
  },
  {
   "cell_type": "code",
   "execution_count": 23,
   "id": "9e5bf240",
   "metadata": {},
   "outputs": [
    {
     "data": {
      "text/plain": [
       "0.19869"
      ]
     },
     "metadata": {},
     "output_type": "display_data"
    },
    {
     "data": {
      "text/plain": [
       "0.80131"
      ]
     },
     "metadata": {},
     "output_type": "display_data"
    },
    {
     "data": {
      "text/plain": [
       "0.2"
      ]
     },
     "metadata": {},
     "output_type": "display_data"
    },
    {
     "data": {
      "text/plain": [
       "0.8"
      ]
     },
     "metadata": {},
     "output_type": "display_data"
    }
   ],
   "source": [
    "N = 100000\n",
    "X = np.zeros(N)\n",
    "for i in range(N):\n",
    "    xi = np.random.rand()\n",
    "    if xi < p:\n",
    "        X[i] = 1\n",
    "    else:\n",
    "        X[i] = 0\n",
    "\n",
    "# Frequenze osservate\n",
    "N_succ = np.sum(X)\n",
    "N_insucc = N-N_succ\n",
    "\n",
    "# Probabilità empiriche\n",
    "p_succ = N_succ/N\n",
    "p_insucc = N_insucc/N\n",
    "\n",
    "display(p_succ,p_insucc)\n",
    "\n",
    "# Probabilità teoriche\n",
    "display(p,1.-p)"
   ]
  },
  {
   "cell_type": "code",
   "execution_count": null,
   "id": "ffb92c86",
   "metadata": {},
   "outputs": [],
   "source": []
  },
  {
   "cell_type": "code",
   "execution_count": null,
   "id": "73e6c3f2",
   "metadata": {},
   "outputs": [],
   "source": []
  }
 ],
 "metadata": {
  "kernelspec": {
   "display_name": "Python 3 (ipykernel)",
   "language": "python",
   "name": "python3"
  },
  "language_info": {
   "codemirror_mode": {
    "name": "ipython",
    "version": 3
   },
   "file_extension": ".py",
   "mimetype": "text/x-python",
   "name": "python",
   "nbconvert_exporter": "python",
   "pygments_lexer": "ipython3",
   "version": "3.11.1"
  }
 },
 "nbformat": 4,
 "nbformat_minor": 5
}
