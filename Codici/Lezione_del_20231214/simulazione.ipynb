{
 "cells": [
  {
   "cell_type": "markdown",
   "metadata": {},
   "source": []
  },
  {
   "cell_type": "code",
   "execution_count": 56,
   "metadata": {},
   "outputs": [],
   "source": [
    "import numpy as np"
   ]
  },
  {
   "cell_type": "code",
   "execution_count": 5,
   "metadata": {},
   "outputs": [
    {
     "data": {
      "text/plain": [
       "8"
      ]
     },
     "metadata": {},
     "output_type": "display_data"
    }
   ],
   "source": [
    "DATA = np.array([[2010,10], [2011,11], [2012,10.5], [2013,12],[2014,10],[2015,12],[2016,11],[2017,13]])\n",
    "x = DATA[:,0]\n",
    "y = DATA[:,1]\n",
    "\n",
    "n = x.size\n",
    "display(n)\n"
   ]
  },
  {
   "cell_type": "markdown",
   "metadata": {},
   "source": [
    "Determiniamo i coefficenti della retta di regressione e i loro intervalli di confidenza al 95 percento (B0, B1x)"
   ]
  },
  {
   "cell_type": "code",
   "execution_count": 7,
   "metadata": {},
   "outputs": [],
   "source": [
    "x_bar = np.mean(x)\n",
    "y_bar = np.mean(y)"
   ]
  },
  {
   "cell_type": "code",
   "execution_count": 8,
   "metadata": {},
   "outputs": [
    {
     "name": "stdout",
     "output_type": "stream",
     "text": [
      "Sigma_xy 1.46875 Sigma_x2 5.25\n"
     ]
    }
   ],
   "source": [
    "sig_xy = np.sum((x-x_bar)*(y-y_bar))/n\n",
    "sig_x2 = np.sum((x-x_bar)**2)/n\n",
    "print(\"Sigma_xy\", sig_xy, \"Sigma_x2\", sig_x2)"
   ]
  },
  {
   "cell_type": "code",
   "execution_count": 12,
   "metadata": {},
   "outputs": [
    {
     "data": {
      "text/plain": [
       "-552.1130952380953"
      ]
     },
     "metadata": {},
     "output_type": "display_data"
    },
    {
     "data": {
      "text/plain": [
       "0.27976190476190477"
      ]
     },
     "metadata": {},
     "output_type": "display_data"
    }
   ],
   "source": [
    "b_0 = y_bar - ((sig_xy/sig_x2)*x_bar)\n",
    "b_1 = sig_xy/sig_x2\n",
    "display(b_0, b_1); "
   ]
  },
  {
   "cell_type": "code",
   "execution_count": 31,
   "metadata": {},
   "outputs": [
    {
     "data": {
      "text/plain": [
       "array([10.20833333, 10.48809524, 10.76785714, 11.04761905, 11.32738095,\n",
       "       11.60714286, 11.88690476, 12.16666667])"
      ]
     },
     "metadata": {},
     "output_type": "display_data"
    },
    {
     "data": {
      "text/plain": [
       "0.780257936507899"
      ]
     },
     "metadata": {},
     "output_type": "display_data"
    }
   ],
   "source": [
    "y_hat = b_0 + b_1*x\n",
    "display(y_hat)\n",
    "r = y - y_hat\n",
    "s = np.sum(r**2)/(n-2)\n",
    "display(s)\n",
    "\n",
    "\n"
   ]
  },
  {
   "cell_type": "code",
   "execution_count": 41,
   "metadata": {},
   "outputs": [],
   "source": [
    "from scipy.stats import t\n",
    "import matplotlib.pyplot as plt "
   ]
  },
  {
   "cell_type": "code",
   "execution_count": 36,
   "metadata": {},
   "outputs": [
    {
     "data": {
      "text/plain": [
       "-1223.6419698314085"
      ]
     },
     "metadata": {},
     "output_type": "display_data"
    },
    {
     "data": {
      "text/plain": [
       "119.41577935521775"
      ]
     },
     "metadata": {},
     "output_type": "display_data"
    },
    {
     "data": {
      "text/plain": [
       "-0.05375110233645042"
      ]
     },
     "metadata": {},
     "output_type": "display_data"
    },
    {
     "data": {
      "text/plain": [
       "0.61327491186026"
      ]
     },
     "metadata": {},
     "output_type": "display_data"
    }
   ],
   "source": [
    "alpha = 0.05\n",
    "T = t.ppf(1-alpha/2, n-2)\n",
    "b_0_l = (b_0 - np.sqrt(s)*np.sqrt((1/n) + (x_bar**2)/(n*sig_x2))*T)\n",
    "b_0_r = (b_0 + np.sqrt(s)*np.sqrt((1/n) + (x_bar**2)/(n*sig_x2))*T)\n",
    "\n",
    "display(b_0_l, b_0_r)\n",
    "\n",
    "b_1_l = (b_1 - (np.sqrt(s))/(np.sqrt(sig_x2)*np.sqrt(n))*T)\n",
    "b_1_r = (b_1 +  (np.sqrt(s))/(np.sqrt(sig_x2)*np.sqrt(n))*T)\n",
    "\n",
    "display(b_1_l, b_1_r)"
   ]
  },
  {
   "cell_type": "code",
   "execution_count": 46,
   "metadata": {},
   "outputs": [
    {
     "data": {
      "image/png": "[encoded data removed]",
      "text/plain": [
       "<Figure size 640x480 with 1 Axes>"
      ]
     },
     "metadata": {},
     "output_type": "display_data"
    }
   ],
   "source": [
    "xx = np.linspace(2010,2017,100)\n",
    "yy = b_0+b_1*xx\n",
    "plt.plot(x,y, '*')\n",
    "plt.plot(xx,yy) \n",
    "plt.show()"
   ]
  },
  {
   "cell_type": "code",
   "execution_count": 47,
   "metadata": {},
   "outputs": [],
   "source": [
    "# Coefficente di Pearson (di determinazione)\n",
    "sig_y2 = np.sum((y - y_bar)**2)/n\n",
    "R2 = (sig_xy**2)/((sig_x2)*sig_y2)\n"
   ]
  },
  {
   "cell_type": "code",
   "execution_count": 48,
   "metadata": {},
   "outputs": [],
   "source": [
    "# Si determini il valore della temperatura previsto per l'anno 2022 con alpha = 0.05\n",
    "\n",
    "x_previsto = 2022\n",
    "y_previsto = b_0+b_1 * x_previsto"
   ]
  },
  {
   "cell_type": "code",
   "execution_count": 55,
   "metadata": {},
   "outputs": [
    {
     "data": {
      "text/plain": [
       "9.438066006592889"
      ]
     },
     "metadata": {},
     "output_type": "display_data"
    },
    {
     "data": {
      "text/plain": [
       "17.692886374359404"
      ]
     },
     "metadata": {},
     "output_type": "display_data"
    }
   ],
   "source": [
    "alpha = 0.05\n",
    "T = t.ppf(1-alpha/2, (n-2))\n",
    "Il = b_0 + b_1*x_previsto- np.sqrt(1+(1/n)+((x_previsto - x_bar)**2/(n*sig_x2)))*T\n",
    "Ir = b_0 + b_1*x_previsto+ np.sqrt(1+(1/n)+((x_previsto - x_bar)**2/(n*sig_x2)))*T\n",
    "display(Il, Ir)"
   ]
  },
  {
   "cell_type": "code",
   "execution_count": null,
   "metadata": {},
   "outputs": [],
   "source": []
  }
 ],
 "metadata": {
  "kernelspec": {
   "display_name": "Metodi-Statistici-vcBZCxuT",
   "language": "python",
   "name": "python3"
  },
  "language_info": {
   "codemirror_mode": {
    "name": "ipython",
    "version": 3
   },
   "file_extension": ".py",
   "mimetype": "text/x-python",
   "name": "python",
   "nbconvert_exporter": "python",
   "pygments_lexer": "ipython3",
   "version": "3.11.1"
  }
 },
 "nbformat": 4,
 "nbformat_minor": 2
}
