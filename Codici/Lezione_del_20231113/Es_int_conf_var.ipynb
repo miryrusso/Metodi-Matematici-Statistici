{
 "cells": [
  {
   "cell_type": "code",
   "execution_count": 1,
   "id": "d1772b8a",
   "metadata": {},
   "outputs": [],
   "source": [
    "# Esercizio intervallo di confidenza per la varianza\n",
    "# Un macchinario riempie automaticamente delle bottiglie. Da un campione di 20 misurazioni \n",
    "# si ottengono i seguenti valori in litri (X). Se la varianza fosse troppo grande, la proporzione di \n",
    "# bottiglie sotto o sovrariempite sarebbe non accettabile \n",
    "# Calcola intervallo di confidenza al 95 percento per il limite superiore per la deviazione standard \n"
   ]
  },
  {
   "cell_type": "code",
   "execution_count": 7,
   "id": "99c258a0",
   "metadata": {},
   "outputs": [],
   "source": [
    "import numpy as np\n",
    "from scipy.stats import chi2 #chi quadro statistica "
   ]
  },
  {
   "cell_type": "code",
   "execution_count": 12,
   "id": "67286fdb",
   "metadata": {},
   "outputs": [],
   "source": [
    "X = np.array([2.05, 2.04, 1.98, 1.96, 2.03, 2.01, 1.97, 1.99, 2.01, 2.05,\n",
    "              1.96, 1.95, 2.04, 2.01, 1.97, 1.96, 2.02, 2.04, 1.98, 1.94])\n",
    "N = 20"
   ]
  },
  {
   "cell_type": "code",
   "execution_count": 13,
   "id": "3c5a18de",
   "metadata": {},
   "outputs": [],
   "source": [
    "S2 = np.std(X, ddof=1)**2."
   ]
  },
  {
   "cell_type": "code",
   "execution_count": 14,
   "id": "45cb2706",
   "metadata": {},
   "outputs": [],
   "source": [
    "alpha = 0.05"
   ]
  },
  {
   "cell_type": "code",
   "execution_count": 15,
   "id": "b8e5234e",
   "metadata": {},
   "outputs": [],
   "source": [
    "chi = chi2.ppf(1.-alpha, 20)"
   ]
  },
  {
   "cell_type": "code",
   "execution_count": 17,
   "id": "e6dcd886",
   "metadata": {},
   "outputs": [],
   "source": [
    "SIG2 = (N-1)*S2/chi"
   ]
  },
  {
   "cell_type": "code",
   "execution_count": 18,
   "id": "975aed89",
   "metadata": {},
   "outputs": [
    {
     "data": {
      "text/plain": [
       "0.0007933669721643767"
      ]
     },
     "metadata": {},
     "output_type": "display_data"
    }
   ],
   "source": [
    "display(SIG2)"
   ]
  },
  {
   "cell_type": "code",
   "execution_count": 19,
   "id": "0241158a",
   "metadata": {},
   "outputs": [],
   "source": [
    "SIG = np.sqrt(SIG2)"
   ]
  },
  {
   "cell_type": "code",
   "execution_count": 20,
   "id": "1f961726",
   "metadata": {},
   "outputs": [
    {
     "data": {
      "text/plain": [
       "0.02816677070884017"
      ]
     },
     "metadata": {},
     "output_type": "display_data"
    }
   ],
   "source": [
    "display(SIG)"
   ]
  },
  {
   "cell_type": "code",
   "execution_count": null,
   "id": "34e548c9",
   "metadata": {},
   "outputs": [],
   "source": []
  }
 ],
 "metadata": {
  "kernelspec": {
   "display_name": "Python 3 (ipykernel)",
   "language": "python",
   "name": "python3"
  },
  "language_info": {
   "codemirror_mode": {
    "name": "ipython",
    "version": 3
   },
   "file_extension": ".py",
   "mimetype": "text/x-python",
   "name": "python",
   "nbconvert_exporter": "python",
   "pygments_lexer": "ipython3",
   "version": "3.11.5"
  }
 },
 "nbformat": 4,
 "nbformat_minor": 5
}
