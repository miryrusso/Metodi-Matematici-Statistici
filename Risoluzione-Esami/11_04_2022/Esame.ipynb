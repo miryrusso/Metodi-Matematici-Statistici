{
 "cells": [
  {
   "cell_type": "markdown",
   "metadata": {},
   "source": [
    "### Esercizio 1 \n",
    "Su un’area di 1000m^2 sono stati dispersi a caso 150 oggetti altamente \n",
    "radioattivi e quindi molto pericolosi anche per il tecnico impegnato nella loro \n",
    "ricerca (in ragione del suo tempo di esposizione). Supponendo che il numero \n",
    "di oggetti per unità di superficie è dato da 150/1000m^2 e sapendo che il tecnico \n",
    "può ispezionare 100m^2 per ora di lavoro, si formuli la probabilità che il \n",
    "tecnico in 8 ore trovi meno di 120 oggetti. "
   ]
  },
  {
   "cell_type": "code",
   "execution_count": 3,
   "metadata": {},
   "outputs": [
    {
     "name": "stdout",
     "output_type": "stream",
     "text": [
      "Probabilità che il tecnico in 8 ore trovi meno di 120 oggetti: 0.5243331672664189\n",
      "Probabilità che il tecnico in 8 ore trovi maggiore di 120 oggetti: 0.4756668327335811\n",
      "Probabilità che il tecnico in 8 ore trovi uguale di 120 oggetti: 0.03947302447596984\n"
     ]
    }
   ],
   "source": [
    "from scipy.stats import binom\n",
    "from scipy.stats import poisson\n",
    "\n",
    "p = 0.15\n",
    "n = 8*100\n",
    "k = 120\n",
    "\n",
    "PMinore120 = binom.cdf(k, n, p)\n",
    "PMaggiore120 = 1-binom.cdf(k, n, p)\n",
    "Puguale120 = binom.pmf(k, n, p)\n",
    "Pp = poisson.cdf(k, n*p)\n",
    "print(\"Probabilità che il tecnico in 8 ore trovi meno di 120 oggetti:\", PMinore120)\n",
    "print(\"Probabilità che il tecnico in 8 ore trovi maggiore di 120 oggetti:\", PMaggiore120)\n",
    "print(\"Probabilità che il tecnico in 8 ore trovi uguale di 120 oggetti:\", Puguale120)"
   ]
  },
  {
   "cell_type": "markdown",
   "metadata": {},
   "source": [
    "### Spiegazione\n",
    "L'esercizio coinvolge la distribuzione binomiale e la distribuzione di Poisson per calcolare la probabilità che un tecnico trovi meno di 120 oggetti in 8 ore, dati i parametri di probabilità p, numero di prove n, e il numero di successi desiderati k.\n",
    "\n",
    "Se avessimo cercato la probabilità più di 120 oggetti avremmo usato il complementare\n",
    "\n",
    "Abbiamo usato la cdf perchè è la sommatoria delle binomiali con i che va da 0 a k altrimenti se avessimo cercato la probabilità esattamente =120 avremmo usato pmf"
   ]
  },
  {
   "cell_type": "markdown",
   "metadata": {},
   "source": [
    "### Esercizio 2 \n",
    "Dall’osservazione di un campione di soli 4 elementi sono state tratte le \n",
    "seguenti rispettive determinazioni:  642, 669, 829, 1217.  \n",
    "Fissato un livello di significatività di 0.05, si può rigettare l’ipotesi che la \n",
    "popolazione da cui è stato estratto il campione abbia media pari a 900? "
   ]
  },
  {
   "cell_type": "code",
   "execution_count": 11,
   "metadata": {},
   "outputs": [
    {
     "data": {
      "text/plain": [
       "264.76341640541403"
      ]
     },
     "metadata": {},
     "output_type": "display_data"
    },
    {
     "data": {
      "text/plain": [
       "0.45701177920563246"
      ]
     },
     "metadata": {},
     "output_type": "display_data"
    }
   ],
   "source": [
    "import numpy as np\n",
    "alpha = 0.05\n",
    "array = np.array([643,669,829,1217])\n",
    "Xn = 900\n",
    "mu = np.mean(array)\n",
    "n = array.size\n",
    "S = np.std(array, ddof=1)\n",
    "display(S)\n",
    "\n",
    "T_0 = ((Xn-mu)/S)*np.sqrt(n)\n",
    "\n",
    "display(T_0)\n"
   ]
  },
  {
   "cell_type": "code",
   "execution_count": 12,
   "metadata": {},
   "outputs": [
    {
     "data": {
      "text/plain": [
       "3.182446305284263"
      ]
     },
     "metadata": {},
     "output_type": "display_data"
    }
   ],
   "source": [
    "from scipy.stats import t\n",
    "T = t.ppf(1.-alpha/2, n-1)\n",
    "\n",
    "display(T)\n",
    "\n",
    "# Visto che T_0 < T non sussiste alcuna motivazione per rigettare l'ipotesi "
   ]
  }
 ],
 "metadata": {
  "kernelspec": {
   "display_name": "Metodi-Statistici-vcBZCxuT",
   "language": "python",
   "name": "python3"
  },
  "language_info": {
   "codemirror_mode": {
    "name": "ipython",
    "version": 3
   },
   "file_extension": ".py",
   "mimetype": "text/x-python",
   "name": "python",
   "nbconvert_exporter": "python",
   "pygments_lexer": "ipython3",
   "version": "3.11.1"
  }
 },
 "nbformat": 4,
 "nbformat_minor": 2
}
