{
 "cells": [
  {
   "cell_type": "code",
   "execution_count": 3,
   "metadata": {},
   "outputs": [],
   "source": [
    "# Esercizio 1 \n",
    "import numpy as np \n",
    "from scipy.stats import norm"
   ]
  },
  {
   "cell_type": "code",
   "execution_count": 11,
   "metadata": {},
   "outputs": [],
   "source": [
    "media = 200\n",
    "scarto_quadratico_medio = 10\n",
    "soglia = 220\n"
   ]
  },
  {
   "cell_type": "code",
   "execution_count": 12,
   "metadata": {},
   "outputs": [
    {
     "data": {
      "text/plain": [
       "0.02275013194817921"
      ]
     },
     "metadata": {},
     "output_type": "display_data"
    },
    {
     "data": {
      "text/plain": [
       "2.275013194817921"
      ]
     },
     "metadata": {},
     "output_type": "display_data"
    }
   ],
   "source": [
    "p = 1 - norm.cdf(220,200,scarto_quadratico_medio)\n",
    "display(p)\n",
    "p = p*100\n",
    "display(p)"
   ]
  },
  {
   "cell_type": "code",
   "execution_count": 13,
   "metadata": {},
   "outputs": [
    {
     "data": {
      "text/plain": [
       "84.1344746068543"
      ]
     },
     "metadata": {},
     "output_type": "display_data"
    }
   ],
   "source": [
    "# Esercizio 2\n",
    "soglia = 190\n",
    "\n",
    "p = 1 - norm.cdf(soglia, media, scarto_quadratico_medio)\n",
    "p = p*100\n",
    "display(p)"
   ]
  },
  {
   "cell_type": "code",
   "execution_count": 16,
   "metadata": {},
   "outputs": [
    {
     "data": {
      "text/plain": [
       "6.680720126885806"
      ]
     },
     "metadata": {},
     "output_type": "display_data"
    },
    {
     "data": {
      "text/plain": [
       "66.80720126885805"
      ]
     },
     "metadata": {},
     "output_type": "display_data"
    }
   ],
   "source": [
    "# Punto C\n",
    "soglia_C = 185\n",
    "pC = norm.cdf(soglia_C, media, scarto_quadratico_medio)\n",
    "probC = pC*100\n",
    "display(probC)\n",
    "pC = pC*1000\n",
    "display(pC)"
   ]
  }
 ],
 "metadata": {
  "kernelspec": {
   "display_name": "Metodi-Statistici-vcBZCxuT",
   "language": "python",
   "name": "python3"
  },
  "language_info": {
   "codemirror_mode": {
    "name": "ipython",
    "version": 3
   },
   "file_extension": ".py",
   "mimetype": "text/x-python",
   "name": "python",
   "nbconvert_exporter": "python",
   "pygments_lexer": "ipython3",
   "version": "3.11.1"
  }
 },
 "nbformat": 4,
 "nbformat_minor": 2
}
