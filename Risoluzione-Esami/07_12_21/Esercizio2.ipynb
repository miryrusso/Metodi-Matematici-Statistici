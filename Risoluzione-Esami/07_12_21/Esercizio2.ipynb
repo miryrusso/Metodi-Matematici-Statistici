{
 "cells": [
  {
   "cell_type": "code",
   "execution_count": 15,
   "metadata": {},
   "outputs": [],
   "source": [
    "# Esercizio 2"
   ]
  },
  {
   "cell_type": "code",
   "execution_count": 16,
   "metadata": {},
   "outputs": [],
   "source": [
    "import numpy as np"
   ]
  },
  {
   "cell_type": "code",
   "execution_count": 17,
   "metadata": {},
   "outputs": [
    {
     "data": {
      "text/plain": [
       "2013.5"
      ]
     },
     "metadata": {},
     "output_type": "display_data"
    },
    {
     "data": {
      "text/plain": [
       "11.1875"
      ]
     },
     "metadata": {},
     "output_type": "display_data"
    },
    {
     "data": {
      "text/plain": [
       "8"
      ]
     },
     "metadata": {},
     "output_type": "display_data"
    }
   ],
   "source": [
    "array = np.array([[2010.,10.], [2011., 11.], [2012,10.5], [2013.,12.], [2014., 10.], [2015.,12.], [2016.,11.], [2017.,13.]])\n",
    "\n",
    "anno = array[:, 0]\n",
    "temperatura = array[:,1]\n",
    "\n",
    "n = anno.size\n",
    "anno_mean = np.mean(anno)\n",
    "temperatura_mean = np.mean(temperatura)\n",
    "\n",
    "display(anno_mean, temperatura_mean,n)"
   ]
  },
  {
   "cell_type": "code",
   "execution_count": 18,
   "metadata": {},
   "outputs": [],
   "source": [
    "# Calcolo dei coefficienti di regressione y = b_0 + b_1 x"
   ]
  },
  {
   "cell_type": "code",
   "execution_count": 23,
   "metadata": {},
   "outputs": [
    {
     "data": {
      "text/plain": [
       "1.46875"
      ]
     },
     "metadata": {},
     "output_type": "display_data"
    },
    {
     "data": {
      "text/plain": [
       "5.25"
      ]
     },
     "metadata": {},
     "output_type": "display_data"
    },
    {
     "data": {
      "text/plain": [
       "-552.1130952380953"
      ]
     },
     "metadata": {},
     "output_type": "display_data"
    },
    {
     "data": {
      "text/plain": [
       "0.27976190476190477"
      ]
     },
     "metadata": {},
     "output_type": "display_data"
    }
   ],
   "source": [
    "sigma_xy = np.sum((anno - anno_mean)*(temperatura-temperatura_mean))/n\n",
    "display(sigma_xy)\n",
    "sigma_x2 = np.sum((anno - anno_mean)**2)/n\n",
    "display(sigma_x2)\n",
    "b_0 = temperatura_mean-((sigma_xy/sigma_x2))*anno_mean\n",
    "b_1 = sigma_xy/sigma_x2\n",
    "\n",
    "display(b_0, b_1)\n"
   ]
  },
  {
   "cell_type": "code",
   "execution_count": 26,
   "metadata": {},
   "outputs": [
    {
     "data": {
      "text/plain": [
       "0.4125116713352007"
      ]
     },
     "metadata": {},
     "output_type": "display_data"
    }
   ],
   "source": [
    "#Coefficente di determinazione \n",
    "sigma_y2 = np.sum((temperatura - temperatura_mean)**2)/n\n",
    "R2 = (sigma_xy**2)/(sigma_x2*sigma_y2)\n",
    "\n",
    "display(R2)"
   ]
  },
  {
   "cell_type": "code",
   "execution_count": 27,
   "metadata": {},
   "outputs": [
    {
     "data": {
      "text/plain": [
       "13.565476190476147"
      ]
     },
     "metadata": {},
     "output_type": "display_data"
    }
   ],
   "source": [
    "\n",
    "temperatura_prevista = b_0+b_1*2022\n",
    "display(temperatura_prevista)"
   ]
  },
  {
   "cell_type": "code",
   "execution_count": null,
   "metadata": {},
   "outputs": [],
   "source": [
    "# La temperatura sarà più alta \n"
   ]
  },
  {
   "cell_type": "markdown",
   "metadata": {},
   "source": [
    " il coefficiente di Pearson è positivo e la pendenza della retta di regressione è positiva, vi è una chiara indicazione di una correlazione positiva e di una tendenza di aumento della temperatura nel corso degli anni.\n",
    " "
   ]
  }
 ],
 "metadata": {
  "kernelspec": {
   "display_name": "Metodi-Statistici-vcBZCxuT",
   "language": "python",
   "name": "python3"
  },
  "language_info": {
   "codemirror_mode": {
    "name": "ipython",
    "version": 3
   },
   "file_extension": ".py",
   "mimetype": "text/x-python",
   "name": "python",
   "nbconvert_exporter": "python",
   "pygments_lexer": "ipython3",
   "version": "3.11.1"
  }
 },
 "nbformat": 4,
 "nbformat_minor": 2
}
