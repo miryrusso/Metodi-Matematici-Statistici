{
 "cells": [
  {
   "cell_type": "markdown",
   "metadata": {},
   "source": [
    "### Esercizio 1\n",
    "Alcuni test di laboratorio sono compiuti su campioni di acqua di mare per \n",
    "determinare il numero X di un certo tipo di batteri per unità di volume di \n",
    "acqua. Le analisi condotte su campioni hanno fornito i risultati x1, x2, ..., xn. Si ipotizzi un modello di probabilità e si formuli la stima di \n",
    "massima verosimiglianza del numero medio di batteri per unità di volume \n",
    "d’acqua."
   ]
  },
  {
   "cell_type": "code",
   "execution_count": 6,
   "metadata": {},
   "outputs": [],
   "source": [
    "# BHO"
   ]
  },
  {
   "cell_type": "markdown",
   "metadata": {},
   "source": [
    "### Esercizio 2\n",
    "Con riferimento alle misure di temperatura media mensile effettuate nelle 30 \n",
    "località delle regioni A e B nel mese di luglio (Tabelle 1 e 2), viene avanzata \n",
    "l’ipotesi che, nell’anno in cui è stato effettuato il monitoraggio, la \n",
    "temperatura media della regione B sia maggiore di quella della regione A.\n",
    "Verificare l’ipotesi con un livello di significatività alpha=0.05.  \n",
    "Tab. 1. Misure di temperatura media mensile in 30 località della regione A \n",
    "![image.png](attachment:image.png)  \n",
    "Tab. 2. Misure di temperatura media mensile in 30 località della regione B  \n",
    "![image-2.png](attachment:image-2.png)"
   ]
  },
  {
   "cell_type": "code",
   "execution_count": 7,
   "metadata": {},
   "outputs": [
    {
     "data": {
      "text/plain": [
       "1.5419282036917525"
      ]
     },
     "metadata": {},
     "output_type": "display_data"
    },
    {
     "data": {
      "text/plain": [
       "1.6448536269514722"
      ]
     },
     "metadata": {},
     "output_type": "display_data"
    },
    {
     "name": "stdout",
     "output_type": "stream",
     "text": [
      "Non si rigetta l'ipotesi nulla ma non si hanno elementi per affermarla\n"
     ]
    }
   ],
   "source": [
    "# Ipotesi che la temperatura media della regione B sia maggiore di quella della regione A\n",
    "import numpy as np\n",
    "from scipy.stats import norm \n",
    "alpha = 0.05\n",
    "X = np.array([22.3, 24.1, 22.9, 24.0, 23.8, 23.2, 24.6, 24.2, 22.7, 22.0, 24.9, 22.6, 23.3, 20.9, 24.0, 20.3, 20.9, 21.6, 19.9, 23.2, 25.7, 24.0, 25.1, 25.1, 25.7, 24.9, 23.2, 22.0, 22.3, 22.7])\n",
    "Y = np.array([23.8, 23.1, 24.4, 22.9, 22.1, 24.8, 21.4, 24.2, 20.5, 22.7, 20.7, 24.1, 23.2, 23.4, 22.9, 24.1, 25.3, 24.5, 25.6, 24.6, 24.0, 24.9, 24.6, 23.5, 25.6, 23.1, 26.1, 24.1, 24.8, 24.2])\n",
    "n = X.size\n",
    "x_bar = np.mean(X)\n",
    "y_bar = np.mean(Y)\n",
    "\n",
    "sigma_x = np.std(X)\n",
    "sigma_Y = np.std(Y)\n",
    "\n",
    "Z_0 = (y_bar - x_bar)/np.sqrt((sigma_x**2)/n +  (sigma_Y**2)/n)\n",
    "phi = norm.ppf(1-alpha)\n",
    "\n",
    "display(Z_0, phi)\n",
    "\n",
    "if(Z_0 > phi) :\n",
    "    print(\"Z_0 > phi quindi si rigetta l'ipotesi e si afferma che la temperatura media della regione B non è maggiore di quella della regione A\")\n",
    "else :\n",
    "    print(\"Non si rigetta l'ipotesi nulla ma non si hanno elementi per affermarla\")"
   ]
  }
 ],
 "metadata": {
  "kernelspec": {
   "display_name": "Metodi-Statistici-vcBZCxuT",
   "language": "python",
   "name": "python3"
  },
  "language_info": {
   "codemirror_mode": {
    "name": "ipython",
    "version": 3
   },
   "file_extension": ".py",
   "mimetype": "text/x-python",
   "name": "python",
   "nbconvert_exporter": "python",
   "pygments_lexer": "ipython3",
   "version": "3.11.1"
  }
 },
 "nbformat": 4,
 "nbformat_minor": 2
}
