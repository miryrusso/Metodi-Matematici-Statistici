{
 "cells": [
  {
   "cell_type": "markdown",
   "metadata": {},
   "source": [
    "### Esercizio 1\n",
    "Un test consiste di 10 domande a risposta multipla: 4 risposte possibili per ogni \n",
    "domanda, di cui una sola esatta. Per superare il test occorre rispondere esattamente ad \n",
    "almeno 8 domande. Qual è la probabilità di superare il test rispondendo a caso alle \n",
    "domande?"
   ]
  },
  {
   "cell_type": "code",
   "execution_count": 8,
   "metadata": {},
   "outputs": [
    {
     "data": {
      "text/plain": [
       "0.000415802001953125"
      ]
     },
     "metadata": {},
     "output_type": "display_data"
    }
   ],
   "source": [
    "import numpy as np\n",
    "from scipy.stats import norm, t, poisson, binom\n",
    "n = 10 \n",
    "p = binom.sf(7, n, 1/4)\n",
    "display(p)"
   ]
  },
  {
   "cell_type": "markdown",
   "metadata": {},
   "source": [
    "### Esercizio 2\n",
    "Si considerino i seguenti dati campionari raccolti per stimare il tempo che impiega un \n",
    "computer a processare i dati: x è il numero di dati e y il tempo in secondi impiegato dal \n",
    "computer per processarli.  \n",
    "\n",
    "X = np.array([105, 511, 401, 622, 330])\n",
    "Y = np.array([44, 214, 193, 299, 143])\n",
    "\n",
    "1. Si calcoli il coefficiente di correlazione tra le variabili;\n",
    "2. Si scriva l’equazione della retta di regressione;\n",
    "3. Si calcoli il tempo previsto per processare 200, 300, 400 dati."
   ]
  },
  {
   "cell_type": "code",
   "execution_count": 11,
   "metadata": {},
   "outputs": [
    {
     "name": "stdout",
     "output_type": "stream",
     "text": [
      "The coefficient of correlation is:  0.9899006950527355\n"
     ]
    },
    {
     "data": {
      "text/plain": [
       "0.9799033860658888"
      ]
     },
     "metadata": {},
     "output_type": "display_data"
    }
   ],
   "source": [
    "X = np.array([105, 511, 401, 622, 330])\n",
    "Y = np.array([44, 214, 193, 299, 143])\n",
    "x_mean = np.mean(X)\n",
    "y_mean = np.mean(Y)\n",
    "n = X.size\n",
    "sigma_xy = (np.sum((X-x_mean)*(Y-y_mean)))/n\n",
    "sigma_x = (np.sum((X-x_mean)**2))/n\n",
    "sigma_y = (np.sum((Y-y_mean)**2))/n\n",
    "\n",
    "R2 = ((sigma_xy)**2)/(sigma_x*sigma_y)\n",
    "Coefficiente_correlazione = np.sqrt(R2)\n",
    "print(\"The coefficient of correlation is: \", Coefficiente_correlazione)\n",
    "display(R2)"
   ]
  },
  {
   "cell_type": "code",
   "execution_count": 13,
   "metadata": {},
   "outputs": [
    {
     "name": "stdout",
     "output_type": "stream",
     "text": [
      "La retta di regressione è pari a y =  -8.546606599243006  + 0.47523262214129763  * x\n"
     ]
    }
   ],
   "source": [
    "# Si scriva l’equazione della retta di regressione;\n",
    "# y_0 = b_0 + b_1 * X\n",
    "b_0 = y_mean - (sigma_xy/sigma_x)*x_mean\n",
    "b_1 = sigma_xy/sigma_x\n",
    "\n",
    "print(\"La retta di regressione è pari a y = \", b_0, \" +\", b_1,\" * x\")"
   ]
  },
  {
   "cell_type": "code",
   "execution_count": 14,
   "metadata": {},
   "outputs": [
    {
     "name": "stdout",
     "output_type": "stream",
     "text": [
      "86.49991782901652 134.02318004314628 181.54644225727606\n"
     ]
    }
   ],
   "source": [
    "# Si calcoli il tempo previsto per processare 200, 300, 400 dati.\n",
    "x1 = 200\n",
    "x2 = 300\n",
    "x3 = 400\n",
    "\n",
    "y1 = b_0 + b_1 * x1\n",
    "y2 = b_0 + b_1 * x2\n",
    "y3 = b_0 + b_1 * x3\n",
    "\n",
    "print(y1,y2,y3)"
   ]
  },
  {
   "cell_type": "code",
   "execution_count": 16,
   "metadata": {},
   "outputs": [
    {
     "data": {
      "image/png": "[encoded data removed]",
      "text/plain": [
       "<Figure size 640x480 with 1 Axes>"
      ]
     },
     "metadata": {},
     "output_type": "display_data"
    }
   ],
   "source": [
    "import matplotlib.pyplot as plt\n",
    "plt.plot(X, Y, \"*\")\n",
    "xx = np.linspace(100,700,1000)\n",
    "yy = b_0 + b_1*xx\n",
    "plt.plot(xx,yy)\n",
    "plt.show()"
   ]
  }
 ],
 "metadata": {
  "kernelspec": {
   "display_name": "Metodi-Statistici-vcBZCxuT",
   "language": "python",
   "name": "python3"
  },
  "language_info": {
   "codemirror_mode": {
    "name": "ipython",
    "version": 3
   },
   "file_extension": ".py",
   "mimetype": "text/x-python",
   "name": "python",
   "nbconvert_exporter": "python",
   "pygments_lexer": "ipython3",
   "version": "3.11.1"
  }
 },
 "nbformat": 4,
 "nbformat_minor": 2
}
