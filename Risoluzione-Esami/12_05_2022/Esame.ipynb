{
 "cells": [
  {
   "cell_type": "markdown",
   "metadata": {},
   "source": [
    "### Esercizio 1 \n",
    "I componenti prodotti da una certa ditta possono presentare due tipi di difetti con \n",
    "percentuali del 3% e 7% rispettivamente. I due tipi di difetti si possono produrre in \n",
    "momenti diversi della produzione per cui si può assumere che le presenze dell’uno o \n",
    "dell’altro siano indipendenti tra loro.\n",
    "A. Qual è la probabilità che un componente presenti entrambi i difetti?\n",
    "B. Qual è la probabilità che un componente sia difettoso (cioè presenti almeno uno dei \n",
    "due difetti)?\n",
    "C. Qual è la probabilità che un componente presenti il difetto 1, sapendo che esso è \n",
    "difettoso?\n",
    "D. Qual è la probabilità che esso presenti uno solo dei due difetti sapendo che esso è \n",
    "difettoso?"
   ]
  },
  {
   "cell_type": "code",
   "execution_count": 22,
   "metadata": {},
   "outputs": [
    {
     "data": {
      "text/plain": [
       "0.0021000000000000003"
      ]
     },
     "metadata": {},
     "output_type": "display_data"
    },
    {
     "data": {
      "text/plain": [
       "0.0979"
      ]
     },
     "metadata": {},
     "output_type": "display_data"
    },
    {
     "data": {
      "text/plain": [
       "0.021450459652706845"
      ]
     },
     "metadata": {},
     "output_type": "display_data"
    },
    {
     "data": {
      "text/plain": [
       "0.0958"
      ]
     },
     "metadata": {},
     "output_type": "display_data"
    },
    {
     "data": {
      "text/plain": [
       "0.0958"
      ]
     },
     "metadata": {},
     "output_type": "display_data"
    }
   ],
   "source": [
    "import numpy as np\n",
    "from scipy.stats import norm, binom, t, poisson\n",
    "\n",
    "difettoA = 0.03\n",
    "difettoB = 0.07\n",
    "\n",
    "# A Qual è la probabilità che un componente presenti entrambi i difetti?\n",
    "pA = 0.03 * 0.07\n",
    "display(pA)\n",
    "\n",
    "# B Qual è la probabilità che un componente sia difettoso (cioè presenti almeno uno dei due difetti?\n",
    "pB = 0.03 + 0.07 - pA\n",
    "display(pB)\n",
    "\n",
    "# C Qual è la probabilità che un componente presenti il difetto 1, sapendo che esso è difettoso?\n",
    "# P(A|PB) = P(PB|A)*P(A)/P(PB) \n",
    "\n",
    "pC = pA/pB\n",
    "display(pC)\n",
    "\n",
    "# Qual è la probabilità che esso presenti uno solo dei due difetti sapendo che esso è difettoso?\n",
    "pE = pB-pA\n",
    "display(pE)\n",
    "pD = pE/pB\n",
    "display(pE)"
   ]
  },
  {
   "cell_type": "markdown",
   "metadata": {},
   "source": [
    "### Esercizio 2\n",
    "Una nota compagnia di bibite, che dichiara per le sue bottiglie un contenuto di 730 ml, \n",
    "dispone di macchine imbottigliatrici che forniscono un riempimento X aleatorio che segue \n",
    "una legge normale di media mu e di varianza sig2=625. Come deve essere fissata mu\n",
    "perché la probabilità che una bottiglia venga trovata con un contenuto insufficiente sia \n",
    "inferiore a 0.002? Quanto dovrebbe valere mu se la compagnia disponesse invece di \n",
    "imbottigliatrici con varianza sig2=400?"
   ]
  },
  {
   "cell_type": "code",
   "execution_count": 23,
   "metadata": {},
   "outputs": [
    {
     "name": "stdout",
     "output_type": "stream",
     "text": [
      "Il valore con cui bisogna fissare mu affinché la probabilità che una bottiglia venga trovata con un contenuto insufficiente sia inferiore a 0.002 è: 802\n"
     ]
    }
   ],
   "source": [
    "import numpy as np\n",
    "from scipy.stats import norm\n",
    "\n",
    "k = 730\n",
    "sig2_1 = 625\n",
    "sig_1 = int(np.sqrt(sig2_1))\n",
    "p = 0.002\n",
    "\n",
    "#Una bottiglia viene considerata con un contenuto insufficiente se il suo contenuto è < 730\n",
    "#P(X<730)=0.002\n",
    "\n",
    "for mu in range(k-sig2_1, k+sig2_1):\n",
    "    p1 = norm.cdf(k, mu, sig_1)\n",
    "    if(p1<p):\n",
    "        break\n",
    "print(\"Il valore con cui bisogna fissare mu affinché la probabilità che una bottiglia venga trovata con un contenuto insufficiente sia inferiore a 0.002 è:\",mu)"
   ]
  },
  {
   "cell_type": "code",
   "execution_count": 24,
   "metadata": {},
   "outputs": [
    {
     "name": "stdout",
     "output_type": "stream",
     "text": [
      "Il valore con cui bisogna fissare mu affinché la probabilità che una bottiglia venga trovata con un contenuto insufficiente sia inferiore a 0.002 è: 788\n"
     ]
    }
   ],
   "source": [
    "sig2_1 = 400\n",
    "sig_1 = int(np.sqrt(sig2_1))\n",
    "\n",
    "\n",
    "for mu in range(k-sig2_1, k+sig2_1):\n",
    "    p1 = norm.cdf(k, mu, sig_1)\n",
    "    if(p1<p):\n",
    "        break\n",
    "print(\"Il valore con cui bisogna fissare mu affinché la probabilità che una bottiglia venga trovata con un contenuto insufficiente sia inferiore a 0.002 è:\",mu)"
   ]
  },
  {
   "cell_type": "markdown",
   "metadata": {},
   "source": [
    "### Esercizio 3\n",
    "Due dadi equilibrati vengono lanciati separatamente più volte. Si indichi con X il numero \n",
    "di lanci necessario a ottenere 1 con il primo dado e con Y il numero necessario a ottenere \n",
    "5 oppure 6 con il secondo.  \n",
    "A. Qual è la legge di X? Qual è la legge di Y? Quanto valgono E(X) e E(Y)?  \n",
    "B. Calcolare la densità di Z=max(X,Y). Quanto vale E(Z)?"
   ]
  },
  {
   "cell_type": "code",
   "execution_count": 25,
   "metadata": {},
   "outputs": [
    {
     "name": "stdout",
     "output_type": "stream",
     "text": [
      "Legge di X 0.16666666666666666\n",
      "Legge di Y 0.3333333333333333\n",
      "Media di X 6.0 Media di Y 3.0\n"
     ]
    }
   ],
   "source": [
    "# In questo caso consideriamo il tempo di primo successo quindi analizziamo il problema seguendo una distribuzione geometrica \n",
    "pX = 1/6\n",
    "k = 1\n",
    "p_X = pX*((1-pX)**(k-1))\n",
    "print(\"Legge di X\", p_X)\n",
    "pY = 1/6 + 1/6\n",
    "p_Y = pY*((1-pY)**(k-1))\n",
    "print(\"Legge di Y\", p_Y)\n",
    "\n",
    "# Per calcolarci la media facciamo : \n",
    "\n",
    "E_X = 1/pX\n",
    "E_Y = 1/p_Y\n",
    "\n",
    "print(\"Media di X\", E_X, \"Media di Y\", E_Y)"
   ]
  }
 ],
 "metadata": {
  "kernelspec": {
   "display_name": "Metodi-Statistici-vcBZCxuT",
   "language": "python",
   "name": "python3"
  },
  "language_info": {
   "codemirror_mode": {
    "name": "ipython",
    "version": 3
   },
   "file_extension": ".py",
   "mimetype": "text/x-python",
   "name": "python",
   "nbconvert_exporter": "python",
   "pygments_lexer": "ipython3",
   "version": "3.11.1"
  }
 },
 "nbformat": 4,
 "nbformat_minor": 2
}
