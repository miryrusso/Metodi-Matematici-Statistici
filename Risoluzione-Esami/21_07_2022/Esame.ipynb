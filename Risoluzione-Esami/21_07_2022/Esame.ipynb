{
 "cells": [
  {
   "cell_type": "markdown",
   "metadata": {},
   "source": [
    "### Esercizio 1\n",
    "Un’associazione di consumatori decide di controllare se le confezioni di pasta di una \n",
    "certa marca contengono effettivamente il peso dichiarato. Su 51 scatole di spaghetti da 500g\n",
    " si è trovata una media campionaria x_bar=492g, con varianza campionaria s^2=220g^2\n",
    ".\n",
    "Supponendo che la quantità di pasta contenuta in una confezione si possa modellizare \n",
    "con una variabile aleatoria normale, un opportuno test statistico permette di concludere, \n",
    "con un livello di significatività alpha=0.05, che in media le confezioni contengono meno di \n",
    "quanto dichiarato?"
   ]
  },
  {
   "cell_type": "code",
   "execution_count": 3,
   "metadata": {},
   "outputs": [
    {
     "data": {
      "text/plain": [
       "-0.25968830649246727"
      ]
     },
     "metadata": {},
     "output_type": "display_data"
    },
    {
     "data": {
      "text/plain": [
       "1.959963984540054"
      ]
     },
     "metadata": {},
     "output_type": "display_data"
    }
   ],
   "source": [
    "import numpy as np\n",
    "from scipy.stats import norm\n",
    "from scipy.stats import t\n",
    "n_scatole = 51\n",
    "u = 492\n",
    "u_0 = 500\n",
    "varianza = 220\n",
    "alpha = 0.05\n",
    "\n",
    "Z = ((u - u_0)/varianza)*np.sqrt(n_scatole)\n",
    "phi = norm.ppf(1.-alpha/2.)\n",
    "display(Z)\n",
    "display(phi)\n",
    "\n",
    "#Si rigetta l'ipotesi Quindi si afferma che le confezioni contengono meno di quanto dichiarato con una significatività del 95%\n"
   ]
  },
  {
   "cell_type": "markdown",
   "metadata": {},
   "source": [
    "### Esercizio 2\n",
    "Un ospedale ha un generatore elettrico d’emergenza connesso ai circuiti ausiliari che \n",
    "forniscono energia ad alcune aree critiche. In caso di black-out l’unità provvede energia \n",
    "elettrica alle sale operatorie e ad alcuni impianti. Il tempo medio tra due guasti del \n",
    "generatore d’emergenza è 100 ore.\n",
    "1. Calcolare la probabilità che il generatore si guasti durante un black-out di 10 ore.\n",
    "2. Si supponga che un secondo generatore d’emergenza identico operi in parallelo. Il \n",
    "sistema si blocca solo se entrambi i generatori si guastano. Calcolare la probabilità di \n",
    "questo evento durante un black-out di 10 ore."
   ]
  },
  {
   "cell_type": "code",
   "execution_count": 4,
   "metadata": {},
   "outputs": [
    {
     "name": "stdout",
     "output_type": "stream",
     "text": [
      "Probabilità che il generatore si guasti durante un black-out di 10 ore: 0.095\n",
      "Probabilità che si blocchi un sistema con due generatori in parallelo: 0.009\n"
     ]
    }
   ],
   "source": [
    "from scipy.stats import expon\n",
    "\n",
    "t = 10\n",
    "L = 100 #tempo medio di guasto, 1/lambda\n",
    "p = expon.cdf(t, scale=L)\n",
    "\n",
    "print(\"Probabilità che il generatore si guasti durante un black-out di 10 ore:\",round(p,3))\n",
    "p2 = p*p\n",
    "print(\"Probabilità che si blocchi un sistema con due generatori in parallelo:\",round(p2,3))"
   ]
  }
 ],
 "metadata": {
  "kernelspec": {
   "display_name": "Metodi-Statistici-vcBZCxuT",
   "language": "python",
   "name": "python3"
  },
  "language_info": {
   "codemirror_mode": {
    "name": "ipython",
    "version": 3
   },
   "file_extension": ".py",
   "mimetype": "text/x-python",
   "name": "python",
   "nbconvert_exporter": "python",
   "pygments_lexer": "ipython3",
   "version": "3.11.1"
  }
 },
 "nbformat": 4,
 "nbformat_minor": 2
}
