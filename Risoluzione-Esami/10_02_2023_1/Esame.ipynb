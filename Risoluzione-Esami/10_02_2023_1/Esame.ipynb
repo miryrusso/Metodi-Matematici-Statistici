{
 "cells": [
  {
   "cell_type": "markdown",
   "metadata": {},
   "source": [
    "### Esercizio 1\n",
    "La probabilità di centrare un bersaglio è pari all’80%. Qual è il numero medio di prove \n",
    "per effettuare un centro? Qual è la deviazione standard? Qual è la probabilità di effettuare \n",
    "un centro dopo 10 prove?"
   ]
  },
  {
   "cell_type": "code",
   "execution_count": 10,
   "metadata": {},
   "outputs": [
    {
     "data": {
      "text/plain": [
       "1.25"
      ]
     },
     "metadata": {},
     "output_type": "display_data"
    },
    {
     "data": {
      "text/plain": [
       "1.0239999999999978e-07"
      ]
     },
     "metadata": {},
     "output_type": "display_data"
    }
   ],
   "source": [
    "import numpy as np\n",
    "from scipy.stats import geom,poisson, binom\n",
    "probabilita = 0.80\n",
    "numero_prove = 10\n",
    "medio_prove = 1/probabilita\n",
    "display(medio_prove)\n",
    "sigma = np.sqrt((1-probabilita)/probabilita**2)\n",
    "p = pow(1-probabilita,numero_prove)\n",
    "display(p)"
   ]
  },
  {
   "cell_type": "markdown",
   "metadata": {},
   "source": [
    "### Esercizio 2\n",
    "In una città di 50000 abitanti se ne ammalano in media 100 l’anno. Calcolare la probabilità \n",
    "che se ne ammalino 200. \n",
    "Sono possibili più modi per risolvere il quesito?"
   ]
  },
  {
   "cell_type": "code",
   "execution_count": 11,
   "metadata": {},
   "outputs": [
    {
     "data": {
      "text/plain": [
       "4.716970602793046e-19"
      ]
     },
     "metadata": {},
     "output_type": "display_data"
    },
    {
     "data": {
      "text/plain": [
       "4.2755099166278575e-19"
      ]
     },
     "metadata": {},
     "output_type": "display_data"
    }
   ],
   "source": [
    "n = 50000\n",
    "lam = 100\n",
    "\n",
    "p = poisson.pmf(200, lam)\n",
    "display(p)\n",
    "\n",
    "p = binom.pmf(200, n, 100/50000)\n",
    "display(p)"
   ]
  },
  {
   "cell_type": "markdown",
   "metadata": {},
   "source": [
    "### Esercizio 3\n",
    "La precisione di una macchina che produce componenti di dimensioni specificate viene \n",
    "tenuta sotto controllo con verifiche campionarie: la dimensione specificata è mu=3.5mm. Se, su 100 pezzi prodotti, si è riscontrata una media campionaria pari a \n",
    "3.42 e una varianza campionaria pari a 0.2209mm^2, il processo va considerato \n",
    "“sotto controllo” o “fuori controllo”?\n",
    "Rispondere alla stessa domanda supponendo che le statistiche siano state rilevate su un \n",
    "campione di ampiezza 60."
   ]
  },
  {
   "cell_type": "code",
   "execution_count": 16,
   "metadata": {},
   "outputs": [
    {
     "name": "stdout",
     "output_type": "stream",
     "text": [
      "non rigetto l'potesi nulla e il fenomeno è sotto controllo\n"
     ]
    }
   ],
   "source": [
    "# Supponiamo l'ipotesi H_0 che le medie coincidono e quindi \"sotto controllo\"\n",
    "# H1 Il processo è fuori controllo \n",
    "from scipy.stats import norm\n",
    "mu_0 = 3.5\n",
    "n = 100 \n",
    "mu = 3.42\n",
    "var = 0.2209\n",
    "\n",
    "#H0 = le medie coincidono e il fenomeno è sotto controllo\n",
    "#H1 = le medie non coincidono e il fenomeno è fuori controllo\n",
    "\n",
    "phi = norm.ppf(1-(0.05/2))\n",
    "\n",
    "Z0_l = mu_0 - (np.sqrt(var/n))*phi\n",
    "Z0_r = mu_0 + (np.sqrt(var/n))*phi\n",
    "\n",
    "if(mu < Z0_l or mu > Z0_r):\n",
    "    print(\"rigetto l'potesi nulla e il fenomeno non è sotto controllo\")\n",
    "else:\n",
    "    print(\"non rigetto l'potesi nulla e il fenomeno è sotto controllo\")"
   ]
  },
  {
   "cell_type": "markdown",
   "metadata": {},
   "source": []
  }
 ],
 "metadata": {
  "kernelspec": {
   "display_name": "Python 3",
   "language": "python",
   "name": "python3"
  },
  "language_info": {
   "codemirror_mode": {
    "name": "ipython",
    "version": 3
   },
   "file_extension": ".py",
   "mimetype": "text/x-python",
   "name": "python",
   "nbconvert_exporter": "python",
   "pygments_lexer": "ipython3",
   "version": "3.11.1"
  }
 },
 "nbformat": 4,
 "nbformat_minor": 2
}
