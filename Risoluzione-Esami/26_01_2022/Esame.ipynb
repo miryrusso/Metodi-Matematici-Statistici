{
 "cells": [
  {
   "cell_type": "markdown",
   "metadata": {},
   "source": [
    "### Esercizio 1\n",
    "Si sa che, nel testare un determinato tipo di pneumatico per camion su un \n",
    "terreno accidentato, il 25% dei camion falliscono il test perché almeno un \n",
    "pneumatico si fora.\n",
    "Dati 15 camion sottoposti al test, calcolare la probabilità che il numero di \n",
    "camion che falliscono il test sia:\n",
    "1. compreso fra 3 e 6 (estremi inclusi);\n",
    "2. minore di 4;\n",
    "3. maggiore di 5."
   ]
  },
  {
   "cell_type": "code",
   "execution_count": 3,
   "metadata": {},
   "outputs": [],
   "source": [
    "import numpy as np \n",
    "from scipy.stats import norm, t, binom, poisson"
   ]
  },
  {
   "cell_type": "code",
   "execution_count": 8,
   "metadata": {},
   "outputs": [
    {
     "data": {
      "text/plain": [
       "0.9433796899393201"
      ]
     },
     "metadata": {},
     "output_type": "display_data"
    },
    {
     "name": "stdout",
     "output_type": "stream",
     "text": [
      "La probabilità che sia compresa tra 3 e 6 è  0.707291878759861 , minore di 4  0.46128687635064125 , maggiore di 5  0.148368077352643\n"
     ]
    }
   ],
   "source": [
    "n = 15\n",
    "p = 0.25 # Probabilità di fallimento \n",
    "\n",
    "# Probabilità che il numero di camion sia fra 3 e 6 \n",
    "\n",
    "pA = binom.cdf(6, n, p) - binom.cdf(2, n, p) \n",
    "\n",
    "display(binom.cdf(6, n, p))\n",
    "\n",
    "pB = binom.cdf(4-1, n, p)\n",
    "\n",
    "pC = binom.sf(5, n, p) # sf \n",
    "\n",
    "print(\"La probabilità che sia compresa tra 3 e 6 è \",pA, \", minore di 4 \", pB, \", maggiore di 5 \", pC)"
   ]
  },
  {
   "cell_type": "markdown",
   "metadata": {},
   "source": [
    "### Esercizio 2\n",
    "L’esperienza passata indica che il tempo impiegato dagli studenti dell’ultimo \n",
    "anno di scuola superiore per completare con successo un test \n",
    "standardizzato è una variabile casuale normale con media 35 minuti. \n",
    "Nell’ultimo anno si osserva, in un campione di 20 studenti, che la media per \n",
    "superare il test si abbassa a 33.1 minuti con una deviazione standard \n",
    "calcolata sul campione uguale a 4.3 minuti. Si può affermare con una \n",
    "significatività del 5% che vi sia un miglioramento nelle prestazioni degli \n",
    "studenti? "
   ]
  },
  {
   "cell_type": "code",
   "execution_count": 9,
   "metadata": {},
   "outputs": [
    {
     "name": "stdout",
     "output_type": "stream",
     "text": [
      "Non abbiamo elementi per rigettare l'ipotesi nulla ma non affermiamo nulla\n"
     ]
    }
   ],
   "source": [
    "mu_0 = 35 \n",
    "n = 20\n",
    "mu = 33.1\n",
    "sig = 4.3\n",
    "alpha = 0.05\n",
    "# H0 = nessun miglioramento\n",
    "# H1 = c'è un miglioramento \n",
    "\n",
    "phi = norm.ppf(alpha)\n",
    "Z_0 = (mu_0 - mu)/sig * np.sqrt(n)\n",
    "\n",
    "if(Z_0 < phi):\n",
    "    print(\"Rigettiamo l'ipotesi nulla e quindi affermiamo che c'è stato un miglioramento\")\n",
    "else:\n",
    "    print(\"Non abbiamo elementi per rigettare l'ipotesi nulla ma non affermiamo nulla\")\n"
   ]
  }
 ],
 "metadata": {
  "kernelspec": {
   "display_name": "Metodi-Statistici-vcBZCxuT",
   "language": "python",
   "name": "python3"
  },
  "language_info": {
   "codemirror_mode": {
    "name": "ipython",
    "version": 3
   },
   "file_extension": ".py",
   "mimetype": "text/x-python",
   "name": "python",
   "nbconvert_exporter": "python",
   "pygments_lexer": "ipython3",
   "version": "3.11.1"
  }
 },
 "nbformat": 4,
 "nbformat_minor": 2
}
