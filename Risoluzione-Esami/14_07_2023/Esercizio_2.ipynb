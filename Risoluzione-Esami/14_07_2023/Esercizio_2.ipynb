{
 "cells": [
  {
   "cell_type": "code",
   "execution_count": 1,
   "metadata": {},
   "outputs": [],
   "source": [
    "from scipy.stats import norm \n",
    "import numpy as np"
   ]
  },
  {
   "cell_type": "markdown",
   "metadata": {},
   "source": [
    "Il punteggio ottenuto dagli studenti in un compito in classe segue una legge \n",
    "normale N(media, varianza al quadro) con media = 7.5 e varianza al quadro = 4.\n",
    "A. Qual é la probabilità che uno studente prenda un voto inferiore a 4?\n"
   ]
  },
  {
   "cell_type": "code",
   "execution_count": 2,
   "metadata": {},
   "outputs": [
    {
     "data": {
      "text/plain": [
       "0.040059156863817086"
      ]
     },
     "metadata": {},
     "output_type": "display_data"
    }
   ],
   "source": [
    "prob = norm.cdf(4, 7.5, 2)\n",
    "display(prob)"
   ]
  },
  {
   "cell_type": "markdown",
   "metadata": {},
   "source": [
    "Se al compito partecipano 30 studenti, qual è la probabilità che ci sia un voto \n",
    "inferiore a 4?"
   ]
  },
  {
   "cell_type": "code",
   "execution_count": 6,
   "metadata": {},
   "outputs": [
    {
     "name": "stdout",
     "output_type": "stream",
     "text": [
      "B. Probabilità che ci sia un voto inferiore a 4 su 30 studenti: 8.209396329403737e-91\n"
     ]
    }
   ],
   "source": [
    "numero_studenti = 30 \n",
    "media = 7.5\n",
    "media_studenti = numero_studenti * media\n",
    "varianza = 4\n",
    "deviazione_standard = (numero_studenti * varianza)**0.5\n",
    "voto_inferiore_4 = norm.cdf(4, loc=media_studenti, scale=deviazione_standard)\n",
    "\n",
    "print(f\"B. Probabilità che ci sia un voto inferiore a 4 su 30 studenti: {voto_inferiore_4}\")"
   ]
  }
 ],
 "metadata": {
  "kernelspec": {
   "display_name": "Metodi-Statistici-vcBZCxuT",
   "language": "python",
   "name": "python3"
  },
  "language_info": {
   "codemirror_mode": {
    "name": "ipython",
    "version": 3
   },
   "file_extension": ".py",
   "mimetype": "text/x-python",
   "name": "python",
   "nbconvert_exporter": "python",
   "pygments_lexer": "ipython3",
   "version": "3.11.1"
  }
 },
 "nbformat": 4,
 "nbformat_minor": 2
}
