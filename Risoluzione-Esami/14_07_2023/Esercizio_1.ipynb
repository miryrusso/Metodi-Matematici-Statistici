{
 "cells": [
  {
   "cell_type": "code",
   "execution_count": 4,
   "metadata": {},
   "outputs": [],
   "source": [
    "import numpy as np \n",
    "from scipy.special import binom"
   ]
  },
  {
   "cell_type": "markdown",
   "metadata": {},
   "source": [
    "Sei palline sono lanciate indipendentemente in tre scatole differenti A,B,C. Per \n",
    "ogni pallina la probabilità di entrare in una scatola è 1/3. \n",
    "Calcolare la probabilità che la scatola contenga:\n",
    "A. esattamente 4 palline;\n",
    "B. almeno due palline;\n",
    "C. almeno 5 palline. "
   ]
  },
  {
   "cell_type": "code",
   "execution_count": 5,
   "metadata": {},
   "outputs": [
    {
     "data": {
      "text/plain": [
       "0.0823045267489712"
      ]
     },
     "metadata": {},
     "output_type": "display_data"
    }
   ],
   "source": [
    "n = 6\n",
    "p = 1/3\n",
    "q = 1-p\n",
    "\n",
    "# n noto x * p elevato ad x * (1-p) elevato n-x\n",
    "# 1 Punto \n",
    "x = 4\n",
    "\n",
    "prob = binom(n, x) * pow(p,4) * pow(q, n-4)\n",
    "display(prob)"
   ]
  },
  {
   "cell_type": "code",
   "execution_count": 10,
   "metadata": {},
   "outputs": [
    {
     "data": {
      "text/plain": [
       "0.6488340192043893"
      ]
     },
     "metadata": {},
     "output_type": "display_data"
    }
   ],
   "source": [
    "# Punto 2\n",
    "prob0 = binom(n, 0) * pow(q,n)\n",
    "prob1 = binom(n, 1) * pow(q, n-1) * p\n",
    "\n",
    "\n",
    "probTotali = 1 - (prob0 + prob1 )\n",
    "\n",
    "display(probTotali)"
   ]
  },
  {
   "cell_type": "code",
   "execution_count": 11,
   "metadata": {},
   "outputs": [
    {
     "data": {
      "text/plain": [
       "0.017832647462277085"
      ]
     },
     "metadata": {},
     "output_type": "display_data"
    }
   ],
   "source": [
    "# Punto 3\n",
    "prob5 = binom(n, 5) * pow(q, n-5) * pow(p, 5)\n",
    "prob6 = binom(n, 6) * pow(q, n-6) * pow(p,6)\n",
    "\n",
    "probTotale = prob5 + prob6\n",
    "\n",
    "display(probTotale)"
   ]
  }
 ],
 "metadata": {
  "kernelspec": {
   "display_name": "Metodi-Statistici-vcBZCxuT",
   "language": "python",
   "name": "python3"
  },
  "language_info": {
   "codemirror_mode": {
    "name": "ipython",
    "version": 3
   },
   "file_extension": ".py",
   "mimetype": "text/x-python",
   "name": "python",
   "nbconvert_exporter": "python",
   "pygments_lexer": "ipython3",
   "version": "3.11.1"
  }
 },
 "nbformat": 4,
 "nbformat_minor": 2
}
