{
 "cells": [
  {
   "cell_type": "markdown",
   "metadata": {},
   "source": [
    "Alcune misure sono effettuate al fine di scartare tutti i componenti che non rispettano la \n",
    "seguente specifica: 1.50 +- d. Si sa che le misure si distribuiscono come una normale con \n",
    "media 1.50 e deviazione standard 0.2 . Determinare il valore di d in modo tale che le \n",
    "specifiche coprano il 95 percento delle misure."
   ]
  },
  {
   "cell_type": "code",
   "execution_count": 2,
   "metadata": {},
   "outputs": [
    {
     "name": "stdout",
     "output_type": "stream",
     "text": [
      "Valore di d in modo tale che le specifiche coprano il 95% delle misure: 0.3289707253902945\n"
     ]
    }
   ],
   "source": [
    "import numpy as np \n",
    "from scipy.stats import norm\n",
    "from scipy.stats import t\n",
    "\n",
    "mu = 1.50\n",
    "sig = 0.2\n",
    "\n",
    "n1 = norm.ppf(0.95, mu, sig) #valore massimo non superato dal 95% delle misure\n",
    "n2 = norm.ppf(1-0.95, mu, sig) #valore minimo superato dal 95% delle misure\n",
    "d = (n1-n2)/2\n",
    "print(\"Valore di d in modo tale che le specifiche coprano il 95% delle misure:\",d)"
   ]
  },
  {
   "cell_type": "markdown",
   "metadata": {},
   "source": [
    "### Essercizio 2\n",
    "In una grande azienda ad ogni dipendente è assegnato un coefficiente di produttività in \n",
    "una scala da 1 a 10. Un campione casuale di 5 dipendenti del reparto A ha i seguenti \n",
    "coefficienti:\n",
    "{87,92,94,89,90}.  \n",
    "Un secondo campione casuale di 9 dipendenti del reparto B ha i seguenti coefficienti:\n",
    "{88,85,93,96,90,91,89,93,95}.  \n",
    "Si può affermare che un reparto sia più produttivo dell’altro? \n",
    "(Argomentare la risposta con la scelta di un opportuno test statistico)"
   ]
  },
  {
   "cell_type": "code",
   "execution_count": 7,
   "metadata": {},
   "outputs": [
    {
     "data": {
      "text/plain": [
       "-0.46009019770283366"
      ]
     },
     "metadata": {},
     "output_type": "display_data"
    },
    {
     "data": {
      "text/plain": [
       "1.6448536269514722"
      ]
     },
     "metadata": {},
     "output_type": "display_data"
    }
   ],
   "source": [
    "x = np.array([87,92,94,89,90])\n",
    "y = np.array([88,85,93,96,90,91,89,93,95])\n",
    "media_x = x.mean()\n",
    "media_y = y.mean()\n",
    "sig_x = np.std(x)\n",
    "sig_y = np.std(y)\n",
    "alpha = 0.05\n",
    "x_size = x.size\n",
    "y_size = y.size\n",
    "\n",
    "# Ipotesi A è piu produttivo \n",
    "\n",
    "phi = norm.ppf(1-alpha)\n",
    "Z_0 = (media_x - media_y ) / np.sqrt(((sig_x**2)/x_size) + ((sig_y**2)/y_size))\n",
    "display(Z_0, phi)\n",
    "  \n",
    "# Z_0 < phi non rigettiamo l'ipotesi ma non possiamo affermarla \n",
    "\n"
   ]
  }
 ],
 "metadata": {
  "kernelspec": {
   "display_name": "Metodi-Statistici-vcBZCxuT",
   "language": "python",
   "name": "python3"
  },
  "language_info": {
   "codemirror_mode": {
    "name": "ipython",
    "version": 3
   },
   "file_extension": ".py",
   "mimetype": "text/x-python",
   "name": "python",
   "nbconvert_exporter": "python",
   "pygments_lexer": "ipython3",
   "version": "3.11.1"
  }
 },
 "nbformat": 4,
 "nbformat_minor": 2
}
