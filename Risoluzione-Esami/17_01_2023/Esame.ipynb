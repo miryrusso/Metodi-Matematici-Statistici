{
 "cells": [
  {
   "cell_type": "markdown",
   "metadata": {},
   "source": [
    "### Esercizio 1\n",
    "Si esaminano 50 pezzi prodotti da due macchine (che indichiamo con A e B) e si contano \n",
    "i pezzi difettosi. I risultati sono i seguenti:  \n",
    "![image.jpg](attachment:image.jpg)\n",
    "1. Si calcoli la probabilità che un pezzo scelto a caso sia difettoso;\n",
    "2. Si calcoli la probabilità che un pezzo scelto a caso tra quelli difettosi provenga dalla macchina B;\n",
    "3. Si dica, giustificando la risposta, se gli eventi “il pezzo è difettoso” e “il pezzo proviene dalla macchina A” si possono ritenere indipendenti;\n",
    "4. Come si può stabilire se una macchina è preferibile all’altra?\n"
   ]
  },
  {
   "cell_type": "code",
   "execution_count": 2,
   "metadata": {},
   "outputs": [
    {
     "data": {
      "text/plain": [
       "0.2"
      ]
     },
     "metadata": {},
     "output_type": "display_data"
    }
   ],
   "source": [
    "import numpy as np \n",
    "from scipy.stats import norm, t, binom, poisson\n",
    "\n",
    "pA = 10/50 \n",
    "display(pA)\n"
   ]
  },
  {
   "cell_type": "code",
   "execution_count": null,
   "metadata": {},
   "outputs": [],
   "source": [
    "# P(B | D) = P(D  | B)*P(B)/P(D)\n"
   ]
  },
  {
   "cell_type": "markdown",
   "metadata": {},
   "source": [
    "### Esercizio 2\n",
    "Sia L il numero medio di meteoriti che ogni anno raggiungono l'atmosfera terrestre. Di \n",
    "queste solo una frazione p raggiunge la superficie terrestre. Indicando con q la frazione di \n",
    "superficie terrestre abitata, si calcoli la probabilità che almeno due meteoriti cadano su \n",
    "una zona abitata. Si assumano i seguenti valori: L=10^4, p=3x10^5, q=0.1."
   ]
  },
  {
   "cell_type": "code",
   "execution_count": 9,
   "metadata": {},
   "outputs": [
    {
     "data": {
      "text/plain": [
       "0.000441100445036578"
      ]
     },
     "metadata": {},
     "output_type": "display_data"
    }
   ],
   "source": [
    "mu = pow(10,4)\n",
    "p = 3 * pow(10,-5)\n",
    "q = 0.1\n",
    "\n",
    "lam = mu*p*q\n",
    "\n",
    "display(poisson.sf(1,lam))\n"
   ]
  },
  {
   "cell_type": "markdown",
   "metadata": {},
   "source": [
    "### Esercizio 3\n",
    "Campionando da una popolazione normale, si sono osservati i seguenti valori:\n",
    "2.0; -1.8; 3.0; -4.1; 4.9; -5.\n",
    "Si verifichi, al livello di significatività del 5%, l’ipotesi che il valore atteso sia nullo. \n"
   ]
  },
  {
   "cell_type": "code",
   "execution_count": 14,
   "metadata": {},
   "outputs": [
    {
     "name": "stdout",
     "output_type": "stream",
     "text": [
      "Non rigettiamo l'ipotesi\n"
     ]
    }
   ],
   "source": [
    "x = np.array([2.0, -1.8,3.0,-4.1,4.9,-5.0])\n",
    "mean = np.mean(x)\n",
    "alpha = 0.05\n",
    "sigma = np.std(x)\n",
    "n = x.size\n",
    "mu_0 = 0 \n",
    "\n",
    "Z_0_l = mu_0 - sigma/np.sqrt(n)\n",
    "Z_0_r = mu_0 + sigma/np.sqrt(n)\n",
    "phi = norm.ppf(1-alpha/2)\n",
    "\n",
    "if(mean <  Z_0_l or mean >  Z_0_r):\n",
    "    print(\"Rigettiamo l'ipotesi per cui il valore atteso non è nullo \")\n",
    "else :\n",
    "    print(\"Non rigettiamo l'ipotesi\")"
   ]
  }
 ],
 "metadata": {
  "kernelspec": {
   "display_name": "Metodi-Statistici-vcBZCxuT",
   "language": "python",
   "name": "python3"
  },
  "language_info": {
   "codemirror_mode": {
    "name": "ipython",
    "version": 3
   },
   "file_extension": ".py",
   "mimetype": "text/x-python",
   "name": "python",
   "nbconvert_exporter": "python",
   "pygments_lexer": "ipython3",
   "version": "3.11.1"
  }
 },
 "nbformat": 4,
 "nbformat_minor": 2
}
