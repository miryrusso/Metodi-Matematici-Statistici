{
 "cells": [
  {
   "cell_type": "markdown",
   "metadata": {},
   "source": [
    "### Esercizio 1\n",
    "Un’urna contiene 12 palline nere e 4 bianche. Ne vengono estratte 6 senza rimpiazzo. \n",
    "Qual è la probabilità di estrarne al più 2 bianche?"
   ]
  },
  {
   "cell_type": "code",
   "execution_count": 4,
   "metadata": {},
   "outputs": [
    {
     "data": {
      "text/plain": [
       "0.8818681318681318"
      ]
     },
     "metadata": {},
     "output_type": "display_data"
    }
   ],
   "source": [
    "import numpy as np \n",
    "from scipy.stats import hypergeom\n",
    "p = hypergeom.cdf(2,16, 4, 6)\n",
    "display(p)"
   ]
  },
  {
   "cell_type": "markdown",
   "metadata": {},
   "source": [
    "### Esercizio 2\n",
    "Nel testare un nuovo tipo di vernice antiruggine si scopre che il 26% dei campioni viene \n",
    "rovinato se lasciato sotto la pioggia. Dati 30 campioni sottoposti al test, calcolare la \n",
    "probabilità che il numero di campioni che falliscono il test sia:\n",
    "1. compreso tra 11 e 19;\n",
    "2. maggiore di 20;\n",
    "3. minore di 10. "
   ]
  },
  {
   "cell_type": "code",
   "execution_count": 5,
   "metadata": {},
   "outputs": [
    {
     "data": {
      "text/plain": [
       "0.13173657808915085"
      ]
     },
     "metadata": {},
     "output_type": "display_data"
    },
    {
     "data": {
      "text/plain": [
       "5.737951051060193e-07"
      ]
     },
     "metadata": {},
     "output_type": "display_data"
    },
    {
     "data": {
      "text/plain": [
       "0.7654250545163692"
      ]
     },
     "metadata": {},
     "output_type": "display_data"
    }
   ],
   "source": [
    "from scipy.stats import binom\n",
    "p = 0.26\n",
    "n = 30\n",
    "\n",
    "# Compreso tra 11 e 19 \n",
    "pA = binom.cdf(19, n, p) - binom.cdf(10,n,p)\n",
    "display(pA)\n",
    "\n",
    "# Maggiore di 20 \n",
    "pB = binom.sf(20, n,p)\n",
    "\n",
    "# Minore di 10 \n",
    "pC = binom.cdf(9, n,p)\n",
    "\n",
    "display(pB, pC)"
   ]
  },
  {
   "cell_type": "markdown",
   "metadata": {},
   "source": [
    "### Esercizio 3\n",
    "Il numero medio di clienti che in un’ora arrivano in un centro di assistenza è 10. \n",
    "Supponendo che il numero di arrivi segua una legge di Poisson, calcolare:\n",
    "1. la probabilità che più di 15 clienti arrivino in 2 ore;\n",
    "2. il numero medio di arrivi in 2 ore."
   ]
  },
  {
   "cell_type": "code",
   "execution_count": 8,
   "metadata": {},
   "outputs": [
    {
     "data": {
      "text/plain": [
       "0.8434868653602572"
      ]
     },
     "metadata": {},
     "output_type": "display_data"
    },
    {
     "name": "stdout",
     "output_type": "stream",
     "text": [
      "Numero media in 2 ore  20\n"
     ]
    }
   ],
   "source": [
    "from scipy.stats import poisson\n",
    "mu = 10\n",
    "n = 15\n",
    "lamda = mu * 2\n",
    "pi = poisson.sf(15, lamda)\n",
    "display(pi)\n",
    "print(\"Numero media in 2 ore \", lamda)\n"
   ]
  },
  {
   "cell_type": "markdown",
   "metadata": {},
   "source": [
    "### Esercizio 4\n",
    "Un ricercatore conclude che i topi vivono in media 40 mesi quando la loro dieta viene \n",
    "ridotta e arricchita con delle vitamine e proteine. Assumendo che la vita di questi topi sia \n",
    "distribuita come una distribuzione normale con deviazione standard 6.3 mesi, calcolare la \n",
    "probabilità che un qualsiasi topo viva per un numero di mesi:\n",
    "1. maggiore di 32;\n",
    "2. minore di 28;\n",
    "3. compreso tra 37 e 49. \n",
    "  \n",
    "  \n",
    "Un’altro ricercatore, variando la dieta, ottiene una vita media di 35 mesi e deviazione \n",
    "standard 4.3 mesi, si può concludere che la prima dieta sia efficace? (Il candidato scelga \n",
    "il tipo di test da eseguire e ne giustifichi i risultati)."
   ]
  },
  {
   "cell_type": "code",
   "execution_count": 13,
   "metadata": {},
   "outputs": [
    {
     "name": "stdout",
     "output_type": "stream",
     "text": [
      "p1  0.8979294116249796  p2  0.028405513967363783  p3 0.6606961853823224\n"
     ]
    },
    {
     "data": {
      "text/plain": [
       "20.729228836452283"
      ]
     },
     "metadata": {},
     "output_type": "display_data"
    },
    {
     "data": {
      "text/plain": [
       "1.6448536269514722"
      ]
     },
     "metadata": {},
     "output_type": "display_data"
    }
   ],
   "source": [
    "from scipy.stats import norm\n",
    "sigma = 6.3 \n",
    "mu = 40 \n",
    "\n",
    "p1 = 1-norm.cdf(32, mu, sigma)\n",
    "\n",
    "p2 = norm.cdf(28, mu, sigma)\n",
    "p3 = norm.cdf(49, mu, sigma) - norm.cdf(37-1, mu, sigma)\n",
    "\n",
    "print(\"p1 \", p1, \" p2 \", p2, \" p3\", p3)\n",
    "\n",
    "# H0 Le due medie di vita sono uguali\n",
    "mu_0 = 35\n",
    "sigma_0 = 4.3\n",
    "n = 1000\n",
    "alpha = 0.05\n",
    "Z_0 = (mu - mu_0)/ np.sqrt(((sigma**2)/n) +((sigma_0**2)/n))\n",
    "phi = norm.ppf(1-alpha)\n",
    "\n",
    "display(Z_0, phi)\n"
   ]
  },
  {
   "cell_type": "code",
   "execution_count": 17,
   "metadata": {},
   "outputs": [
    {
     "name": "stdout",
     "output_type": "stream",
     "text": [
      "La probabilità che più di 15 clienti arrivino in 2 ore è: 0.843486865360257\n",
      "Il numero medio di arrivi in 2 ore è: 20\n"
     ]
    }
   ],
   "source": [
    "import math\n",
    "def poisson_pmf(lmbda, k):\n",
    "    return (math.exp(-lmbda) * lmbda**k) / math.factorial(k)\n",
    "def poisson_cdf(lmbda, k):\n",
    "    cdf = 0.0\n",
    "    for i in range(k + 1):\n",
    "        cdf += poisson_pmf(lmbda, i)\n",
    "    return cdf\n",
    "lmbda = 10  # Numero medio di clienti che arrivano in un'ora\n",
    "tempo = 2  # Numero di ore\n",
    "# Calcolo della probabilità che più di 15 clienti arrivino in 2 ore\n",
    "prob1 = 1 - poisson_cdf(lmbda * tempo, 15)\n",
    "print(\"La probabilità che più di 15 clienti arrivino in 2 ore è:\", prob1)\n",
    "# Calcolo del numero medio di arrivi in 2 ore\n",
    "media_arrivi = lmbda * tempo\n",
    "print(\"Il numero medio di arrivi in 2 ore è:\", media_arrivi)"
   ]
  }
 ],
 "metadata": {
  "kernelspec": {
   "display_name": "Metodi-Statistici-vcBZCxuT",
   "language": "python",
   "name": "python3"
  },
  "language_info": {
   "codemirror_mode": {
    "name": "ipython",
    "version": 3
   },
   "file_extension": ".py",
   "mimetype": "text/x-python",
   "name": "python",
   "nbconvert_exporter": "python",
   "pygments_lexer": "ipython3",
   "version": "3.11.1"
  }
 },
 "nbformat": 4,
 "nbformat_minor": 2
}
