{
 "cells": [
  {
   "cell_type": "markdown",
   "metadata": {},
   "source": [
    "### Esercizio 1\n",
    "In un certo ufficio di una ditta arrivano gli ordini da parte dei clienti con una media di 10 \n",
    "ordini al giorno. Di tutti gli ordini che arrivano una frazione del 2% non può essere \n",
    "soddisfatta in quanto si riferisce ad articoli fuori produzione.  \n",
    "1) Quale distribuzione può essere appropriata per la variabile aleatoria che conta il \n",
    "numero di ordini arrivati in un giorno a caso? Sotto quali ipotesi? Calcolare la \n",
    "probabilità che in un giorno arrivino non più di 3 ordini.\n"
   ]
  },
  {
   "cell_type": "code",
   "execution_count": 12,
   "metadata": {},
   "outputs": [
    {
     "name": "stdout",
     "output_type": "stream",
     "text": [
      "Probabilità che in un giorno arrivino non più di 3 ordini: 0.010336050675925726\n"
     ]
    }
   ],
   "source": [
    "import numpy as np\n",
    "from scipy.stats import poisson\n",
    "\n",
    "lam = 10 #numero medio di ordini arrivati in un giorno\n",
    "p = 0.02 #probabilità che un ordine non possa essere soddisfatto\n",
    "n = 100\n",
    "k1 = 3\n",
    "k2 = 2\n",
    "\n",
    "#L'arrivo di un ordine è un evento che può essere schematizzato secondo un modello successo-insuccesso.\n",
    "#Ipotizzando che il numero di persone che possono fare un ordine alla ditta sia molto maggiore di 10 segue che\n",
    "#la probabilità che una persona faccia effettivamente un ordine alla ditta sia molto bassa. Supponendo valida\n",
    "#questa ipotesi una distribuzione appropriata è quella di Poisson.\n",
    "\n",
    "#Punto 1: P(X<=3)\n",
    "p1 = poisson.cdf(k1, lam)\n",
    "print(\"Probabilità che in un giorno arrivino non più di 3 ordini:\",p1)"
   ]
  },
  {
   "cell_type": "markdown",
   "metadata": {},
   "source": [
    "2) Quale distribuzione può essere appropriata per la variabile aleatoria che conta il \n",
    "numero di ordini che non possono essere soddisfatti su 100 ordini arrivati? Sotto quali \n",
    "ipotesi? Calcolare la probabilità che su 100 ordini arrivati almeno 2 non possano \n",
    "essere soddisfatti."
   ]
  },
  {
   "cell_type": "code",
   "execution_count": 13,
   "metadata": {},
   "outputs": [
    {
     "data": {
      "text/plain": [
       "0.593994150290162"
      ]
     },
     "metadata": {},
     "output_type": "display_data"
    },
    {
     "data": {
      "text/plain": [
       "0.5967282892179967"
      ]
     },
     "metadata": {},
     "output_type": "display_data"
    }
   ],
   "source": [
    "from scipy.stats import binom\n",
    "p2_poisson = 1-poisson.cdf(k2-1,n*p)\n",
    "display(p2_poisson)\n",
    "\n",
    "# Test con binomiale \n",
    "\n",
    "p2_binomiale = 1 - binom.cdf(k2-1, n, p)\n",
    "display(p2_binomiale)"
   ]
  },
  {
   "cell_type": "markdown",
   "metadata": {},
   "source": [
    "### Esercizio 2\n",
    "I seguenti dati di deformazione laterale (εy) e longitudinale (εx) sono stati ottenuti \n",
    "sottoponendo a sforzo delle barre fabbricate con una lega sperimentale.  \n",
    "![image.png](attachment:image.png)\n",
    "1) Calcolare il coefficiente di correlazione delle variabili εx, εy.\n",
    "2) È ragionevole supporre che sussista una relazione lineare tra le variabili?\n",
    "3) Determinare la retta di regressione e calcolare la deformazione laterale corrispondente ai valori εx=0.35 e εx=0.8."
   ]
  },
  {
   "cell_type": "code",
   "execution_count": 16,
   "metadata": {},
   "outputs": [
    {
     "data": {
      "text/plain": [
       "0.9723011363636364"
      ]
     },
     "metadata": {},
     "output_type": "display_data"
    },
    {
     "data": {
      "text/plain": [
       "0.9860533131446982"
      ]
     },
     "metadata": {},
     "output_type": "display_data"
    }
   ],
   "source": [
    "import numpy as np\n",
    "\n",
    "x = np.array([0.3, 0.4, 0.2, 0.5, 0.6])\n",
    "y = np.array([0.11, 0.14, 0.06, 0.16, 0.22])\n",
    "\n",
    "x_mean = np.mean(x)\n",
    "y_mean = np.mean(y)\n",
    "n = x.size\n",
    "\n",
    "sigma_xy = np.sum((x - x_mean)*(y-y_mean))/n\n",
    "sigma_x2 = np.sum((x-x_mean)**2)/n\n",
    "sigma_y2 = np.sum((y-y_mean)**2)/n\n",
    "R2 = (sigma_xy**2)/((sigma_x2)*(sigma_y2))\n",
    "display(R2)\n",
    "\n",
    "coefficiente_correlazione_lineare = np.sqrt(R2)\n",
    "display(coefficiente_correlazione_lineare)\n",
    "\n",
    "# Visto che R2 è prossimo ad 1 possiamo affermare che con alta probabilita è usato il modello di lineare "
   ]
  },
  {
   "cell_type": "code",
   "execution_count": 20,
   "metadata": {},
   "outputs": [
    {
     "data": {
      "text/plain": [
       "-0.010000000000000037"
      ]
     },
     "metadata": {},
     "output_type": "display_data"
    },
    {
     "data": {
      "text/plain": [
       "0.37000000000000005"
      ]
     },
     "metadata": {},
     "output_type": "display_data"
    },
    {
     "data": {
      "text/plain": [
       "0.11949999999999997"
      ]
     },
     "metadata": {},
     "output_type": "display_data"
    },
    {
     "data": {
      "text/plain": [
       "0.28600000000000003"
      ]
     },
     "metadata": {},
     "output_type": "display_data"
    },
    {
     "data": {
      "text/plain": [
       "2.3533634348018264"
      ]
     },
     "metadata": {},
     "output_type": "display_data"
    },
    {
     "data": {
      "text/plain": [
       "10.26195363016674"
      ]
     },
     "metadata": {},
     "output_type": "display_data"
    }
   ],
   "source": [
    "#È ragionevole supporre che sussista una relazione lineare tra le variabili?\n",
    "\n",
    "from scipy.stats import t\n",
    "\n",
    "# Calcoliamo y_hat = b_0 + b_1*x\n",
    "b_0 = y_mean - (sigma_xy/sigma_x2)*x_mean\n",
    "display(b_0)\n",
    "b_1 = sigma_xy/sigma_x2\n",
    "display(b_1)\n",
    "\n",
    "y_hat = b_0 + b_1 * x\n",
    "r = y - y_hat \n",
    "s2 = np.sum(r**2)/(n-2)\n",
    "\n",
    "alpha = 0.05 \n",
    "phi = t.ppf(1-alpha, (n-2))\n",
    "T1 = np.sqrt(n)*(b_1/np.sqrt(s2))*np.sqrt(sigma_x2)\n",
    "display(phi, T1)\n",
    "\n",
    "# Visto che T1 > di phi rigettiamo l'ipotesi e quindi esiste una relazione lineare\n",
    "\n",
    "# In base ai parametri dati \n",
    "y_1 = b_0+b_1 * 0.35\n",
    "y_2 = b_0+b_1 * 0.8\n",
    "display(y_1, y_2) "
   ]
  },
  {
   "cell_type": "code",
   "execution_count": 23,
   "metadata": {},
   "outputs": [
    {
     "data": {
      "image/png": "[encoded data removed]",
      "text/plain": [
       "<Figure size 640x480 with 1 Axes>"
      ]
     },
     "metadata": {},
     "output_type": "display_data"
    }
   ],
   "source": [
    "import matplotlib.pyplot as plt \n",
    "\n",
    "plt.plot(x,y,\"*\")\n",
    "xx = np.linspace(0,1,1000)\n",
    "yy = b_0 + b_1 *xx\n",
    "plt.plot(xx,yy)\n",
    "plt.show()\n"
   ]
  }
 ],
 "metadata": {
  "kernelspec": {
   "display_name": "Metodi-Statistici-vcBZCxuT",
   "language": "python",
   "name": "python3"
  },
  "language_info": {
   "codemirror_mode": {
    "name": "ipython",
    "version": 3
   },
   "file_extension": ".py",
   "mimetype": "text/x-python",
   "name": "python",
   "nbconvert_exporter": "python",
   "pygments_lexer": "ipython3",
   "version": "3.11.1"
  }
 },
 "nbformat": 4,
 "nbformat_minor": 2
}
