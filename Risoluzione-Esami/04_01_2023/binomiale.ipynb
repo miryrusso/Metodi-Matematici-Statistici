{
 "cells": [
  {
   "cell_type": "code",
   "execution_count": null,
   "metadata": {},
   "outputs": [],
   "source": [
    "#In una schedina del totocalcio a 13 partite i tre simboli compaiono con \n",
    "#probabilità rispettivamente. Calcolare la probabilità che in una \n",
    "#schedina\n",
    "#1. il 2 compaia più di 3 volte;\n",
    "#2. il simbolo non compaia mai"
   ]
  },
  {
   "cell_type": "markdown",
   "metadata": {},
   "source": [
    "partite_totali = 13\n",
    "p1 = 0.46\n",
    "pX = 0.28\n",
    "p2 = 0.26"
   ]
  },
  {
   "cell_type": "code",
   "execution_count": 11,
   "metadata": {},
   "outputs": [],
   "source": [
    "import numpy as np\n",
    "from scipy.special import binom\n",
    "from scipy.stats import binom"
   ]
  },
  {
   "cell_type": "code",
   "execution_count": 7,
   "metadata": {},
   "outputs": [
    {
     "data": {
      "text/plain": [
       "0.44926546122885774"
      ]
     },
     "metadata": {},
     "output_type": "display_data"
    }
   ],
   "source": [
    "partite_totali = 13\n",
    "p1 = 0.46\n",
    "pX = 0.28\n",
    "p2 = 0.26\n",
    "q = 1 - 0.26\n",
    "\n",
    "B0 = binom(partite_totali, 0) * pow(q, partite_totali)\n",
    "B1 = binom(partite_totali, 1) * pow(q, partite_totali-1) * p2\n",
    "B2 = binom(partite_totali, 2) * pow(q, partite_totali-2) * pow(p2,2)\n",
    "B3 = binom(partite_totali, 3) * pow(q, partite_totali-3) * pow(p2,3) \n",
    "\n",
    "\n",
    "p_tot = 1 - B0 - B1 -B2 - B3\n",
    "display(p_tot)\n"
   ]
  },
  {
   "cell_type": "code",
   "execution_count": 9,
   "metadata": {},
   "outputs": [
    {
     "data": {
      "text/plain": [
       "0.01397405517247104"
      ]
     },
     "metadata": {},
     "output_type": "display_data"
    }
   ],
   "source": [
    "# X non compare\n",
    "q = 1 - pX\n",
    "X0 = binom(partite_totali, 0) * pow(q, partite_totali)\n",
    "display(X0)"
   ]
  },
  {
   "cell_type": "code",
   "execution_count": 12,
   "metadata": {},
   "outputs": [
    {
     "data": {
      "text/plain": [
       "0.4492654612288576"
      ]
     },
     "metadata": {},
     "output_type": "display_data"
    }
   ],
   "source": [
    "prob_piu_di_k_volte = 1 - binom.cdf(3, partite_totali, 0.26)\n",
    "display(prob_piu_di_k_volte)"
   ]
  }
 ],
 "metadata": {
  "kernelspec": {
   "display_name": "Metodi-Statistici-vcBZCxuT",
   "language": "python",
   "name": "python3"
  },
  "language_info": {
   "codemirror_mode": {
    "name": "ipython",
    "version": 3
   },
   "file_extension": ".py",
   "mimetype": "text/x-python",
   "name": "python",
   "nbconvert_exporter": "python",
   "pygments_lexer": "ipython3",
   "version": "3.11.1"
  }
 },
 "nbformat": 4,
 "nbformat_minor": 2
}
