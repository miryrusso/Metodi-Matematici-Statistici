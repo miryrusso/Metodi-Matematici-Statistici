{
 "cells": [
  {
   "cell_type": "code",
   "execution_count": null,
   "metadata": {},
   "outputs": [],
   "source": []
  },
  {
   "cell_type": "markdown",
   "metadata": {},
   "source": [
    "Su un campione casuale di 40 elementi proveniente da una popolazione normale si \n",
    "è ottenuta una media pari a 11.2. Considerando nota la varianza 8, \n",
    "verificare che la media della popolazione sia uguale a 10 con un livello di \n",
    "significatività ."
   ]
  },
  {
   "cell_type": "code",
   "execution_count": 1,
   "metadata": {},
   "outputs": [],
   "source": [
    "import numpy as np \n",
    "from scipy.stats import norm"
   ]
  },
  {
   "cell_type": "code",
   "execution_count": 5,
   "metadata": {},
   "outputs": [
    {
     "data": {
      "text/plain": [
       "0.9486832980505133"
      ]
     },
     "metadata": {},
     "output_type": "display_data"
    }
   ],
   "source": [
    "n = 40 \n",
    "deviazione = 8\n",
    "media = 11.2 \n",
    "\n",
    "media_0 = 10\n",
    "alpha = 0.10\n",
    "\n",
    "Z = (media - media_0)/deviazione*np.sqrt(n)\n",
    "display(Z)\n",
    "\n"
   ]
  },
  {
   "cell_type": "code",
   "execution_count": 4,
   "metadata": {},
   "outputs": [
    {
     "data": {
      "text/plain": [
       "1.6448536269514722"
      ]
     },
     "metadata": {},
     "output_type": "display_data"
    }
   ],
   "source": [
    "phi = norm.ppf(1.-alpha/2.)\n",
    "display(phi)\n",
    "#Visto che Z_0< PHI non rigettiamo l'ipotesi "
   ]
  }
 ],
 "metadata": {
  "kernelspec": {
   "display_name": "Metodi-Statistici-vcBZCxuT",
   "language": "python",
   "name": "python3"
  },
  "language_info": {
   "codemirror_mode": {
    "name": "ipython",
    "version": 3
   },
   "file_extension": ".py",
   "mimetype": "text/x-python",
   "name": "python",
   "nbconvert_exporter": "python",
   "pygments_lexer": "ipython3",
   "version": "3.11.1"
  }
 },
 "nbformat": 4,
 "nbformat_minor": 2
}
