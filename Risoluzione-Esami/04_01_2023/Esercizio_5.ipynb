{
 "cells": [
  {
   "cell_type": "code",
   "execution_count": null,
   "metadata": {},
   "outputs": [],
   "source": []
  },
  {
   "cell_type": "markdown",
   "metadata": {},
   "source": [
    "L’ossigeno consumato da una persona che cammina è funzione della sua velocità. \n",
    "La seguente tabella riporta il volume di ossigeno consumato a varie velocità di \n",
    "cammino. Ipotizzando una relazione lineare, scrivere l’equazione della retta di \n",
    "regressione"
   ]
  }
 ],
 "metadata": {
  "language_info": {
   "name": "python"
  }
 },
 "nbformat": 4,
 "nbformat_minor": 2
}
