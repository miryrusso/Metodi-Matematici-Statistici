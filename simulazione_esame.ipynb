{
 "cells": [
  {
   "cell_type": "code",
   "execution_count": null,
   "metadata": {},
   "outputs": [],
   "source": [
    "# Esercizio numero 1\n",
    "# Un'urna A continene n palline tutte rosse. Un'urna B contiene n palline di cui r rosse (1<=r<=n) e n-r nere.\n",
    "# Si sceglie a caso una delle due urne e da essa si effettua una successione di estazioni con rimpiazzo. \n",
    "# 1) Qual è la probabilità che la prima pallina estratta sia rossa?\n",
    "# 2) Qual è la probabilità che le prime due palline estratte siano di colori diversi? \n",
    "# 3) Quante estrazione sono necessarie in media per veder comparire per la prima volta una pallina rossa? \n",
    "# 4) Sapendo che le prime k palline estratte sono rosse, qual è la probabilità che l'urna dalla quale esse sono sttate estratte sia l'urna A? \n",
    "#    Supponiamo n = 12 e r = 4, quanto grande dovrà esser k perchè si possa concludere che l'urna da cui le palline sono state estratte sua l'urna A\n",
    "#    con una probabilità di almeno 99%?"
   ]
  },
  {
   "cell_type": "markdown",
   "metadata": {},
   "source": [
    "1) Ipotizziamo che l'urna venga scelta a caso e quindi ci sia il 50 percento di probabilità di sceglierla (1/2)\n",
    "\n",
    "P(A) = 1/2\n",
    "P(B) = 1/2 * r/n \n",
    "P(A) U P(B) = P(A) + P(B) - P(A ∩ B) = 1/2 + (1/2 *r/n) \n",
    "\n",
    "2) Indichiamo con C l'evento \"le prime due estrazioni danno palline di colori diversi\"\n",
    "P(C|A) = 0\n",
    "P(C|B) = B(2, r/n) Dunque \n",
    "\n",
    "p = r/n \n",
    "\n",
    "P(C|B) = (2\n",
    "          1 )*p*(1-p)\n",
    "\n",
    "3) Indichiamo con T la v.a. \"tempo d'attesa della prima estrazione di una pallina rossa\" e segue una distribuzione ipergeometrica \n",
    "P(T = k) = P(T = k|A)P(A) + P(T = k|B)P(B)\n",
    "Visto che l'urna A contiene solo palline rosse\n",
    "P(T = k|A) = {1 se k = 1  o 0 altrimenti }\n",
    "mentre \n",
    "P(T = k|B) = {p(1-p) elevato a k-1 se k = 1,2 0 altrimenti}\n",
    "\n",
    "E[T] = 1/2(1 + n/r) \n",
    "\n",
    "4) Poniamo E come l'evento che le prime k estrazioni hanno dato tutte palline rosse. La probabilità sarà P(A|E) e per la formula di Bayes: \n",
    "P(A|E) = P(E|A)P(A) / P(E)\n",
    "Ora P(E|A) = 1 mentre P(A) = 1/2\n",
    "Calcoliamo P(E) e lo facciamo usando il Teorema delle probabilita totali \n",
    "P(E) = P(E|A)P(A) + P(E|B)P(B)\n",
    "B(k, r/n). Dunque r/n elevato a k \n",
    "P(E) = 1/2(1 + (r/n)^k) \n",
    "\n",
    "Per n = 12, r= 4 applico la formula e la pongo maggiore a 0.99"
   ]
  },
  {
   "cell_type": "code",
   "execution_count": null,
   "metadata": {},
   "outputs": [],
   "source": [
    "#Nella tabella che segue si riporta il peso (in mg) del principio attivo misurato in un campione di 10 compresse \n",
    "#estratto da un lotto di produzione di una nota marca farmaceutica.\n",
    "#4.65 4.7 4.75 4.77 4.8 4.95 5 4.75 4.54 4.66\n",
    "\n",
    "#Supponendo che questo campione sia estratto da un lotto avente popolazione distribuita secondo una \n",
    "#normale di parametri incogniti si svolgano i seguenti quesiti.\n",
    "#a) Si calcoli la media campionaria, la deviazione standard e l’intervallo di confidenza con livello di fiducia 0.01.\n",
    "#b) Si rappresentino i dati mediante box-plot e si commenti il grafico.\n",
    "#c) Se il principio attivo presente nella compressa deve essere pari a 4.7 mg, possiamo dire con un livello di fiducia 0.05 che il lotto di produzione rientra in questa specifica?"
   ]
  },
  {
   "cell_type": "code",
   "execution_count": 1,
   "metadata": {},
   "outputs": [],
   "source": [
    "import numpy as np \n",
    "import matplotlib.pyplot as plt \n"
   ]
  },
  {
   "cell_type": "code",
   "execution_count": 2,
   "metadata": {},
   "outputs": [
    {
     "name": "stdout",
     "output_type": "stream",
     "text": [
      "Media campionaria:  4.757000000000001\n"
     ]
    }
   ],
   "source": [
    "#Array\n",
    "X = np.array([4.65, 4.7, 4.75, 4.77, 4.8, 4.95, 5, 4.75, 4.54, 4.66])\n",
    "#Media campionaria\n",
    "media = np.mean(X)\n",
    "print(\"Media campionaria: \", media )"
   ]
  },
  {
   "cell_type": "code",
   "execution_count": 3,
   "metadata": {},
   "outputs": [
    {
     "name": "stdout",
     "output_type": "stream",
     "text": [
      "Deviazione Standard:  0.13023440405668538\n"
     ]
    }
   ],
   "source": [
    "#Deviazione Standard\n",
    "deviazione = np.std(X)\n",
    "print(\"Deviazione Standard: \", deviazione)"
   ]
  },
  {
   "cell_type": "code",
   "execution_count": 8,
   "metadata": {},
   "outputs": [
    {
     "data": {
      "text/plain": [
       "4.623159635288149"
      ]
     },
     "metadata": {},
     "output_type": "display_data"
    },
    {
     "data": {
      "text/plain": [
       "4.890840364711852"
      ]
     },
     "metadata": {},
     "output_type": "display_data"
    },
    {
     "data": {
      "image/png": "[encoded data removed]",
      "text/plain": [
       "<Figure size 640x480 with 1 Axes>"
      ]
     },
     "metadata": {},
     "output_type": "display_data"
    }
   ],
   "source": [
    "#Intervallo di confidenza al 95% \n",
    "from scipy.stats import t \n",
    "#alpha è il mio intervallo di confidenza\n",
    "#INTERVALLO DI CONFIDENZA AL 95%\n",
    "#[media - deviazione/ radice di n * t_alpha, media + deviazione/ radice di n * t_alpha]\n",
    "n = X.size\n",
    "df = n-1 \n",
    "alpha = 0.01\n",
    "t_alpha = t.ppf(1.-alpha/2., df)\n",
    "Il = media - deviazione/np.sqrt(n)*t_alpha\n",
    "Ir = media + deviazione/np.sqrt(n)*t_alpha\n",
    "display(Il, Ir)\n",
    "\n",
    "#Box-plot\n",
    "plt.boxplot(X)\n",
    "plt.show()"
   ]
  },
  {
   "cell_type": "code",
   "execution_count": 10,
   "metadata": {},
   "outputs": [
    {
     "data": {
      "text/plain": [
       "1.3840415513487814"
      ]
     },
     "metadata": {},
     "output_type": "display_data"
    },
    {
     "data": {
      "text/plain": [
       "1.8331129326536333"
      ]
     },
     "metadata": {},
     "output_type": "display_data"
    }
   ],
   "source": [
    "#Calcoliamo una statistica t per il campione singolo e misura quanti errori la media del campione si discosta dalla media della popolazione\n",
    "\n",
    "media_0 = 4.7\n",
    "\n",
    "T_0 = (media - media_0)/deviazione*np.sqrt(n)\n",
    "display(T_0)\n",
    "\n",
    "alpha = 0.05 #95 %\n",
    "T = t.ppf(1.-alpha, n-1)\n",
    "display(T)\n"
   ]
  },
  {
   "cell_type": "markdown",
   "metadata": {},
   "source": [
    "Visto che T_0 è minore di T non possiamo rigettare l'ipotesi nulla\n",
    "Significa che non ci sono differenze signficiative tra la media del campione\n",
    "e la media della popolazione specificata \n"
   ]
  },
  {
   "cell_type": "markdown",
   "metadata": {},
   "source": [
    "La seguente tabella raccoglie i dati relativi alle temperature medie invernali registrate negli ultimi 10 anni in \n",
    "una città italiana\n",
    "Anno 2010 2011 2012 2013 2014 2015 2016 2017\n",
    "Temperatura 10 11 10.5 12 10 12 11 13\n",
    "\n",
    "Si svolgano i seguenti quesiti.\n",
    "a) Si determinino i coefficienti della retta di regressione e i loro intervalli di confidenza al 95%.\n",
    "b) Si rappresentino i dati e la retta di regressione in uno stesso grafico.\n",
    "c) Si determini il coefficiente di Pearson.\n",
    "d) Si determini il valore della temperatura previsto per l’anno 2022 e il suo intervallo di confidenza al \n",
    "95%\n"
   ]
  },
  {
   "cell_type": "code",
   "execution_count": null,
   "metadata": {},
   "outputs": [],
   "source": []
  }
 ],
 "metadata": {
  "kernelspec": {
   "display_name": "Metodi-Statistici-vcBZCxuT",
   "language": "python",
   "name": "python3"
  },
  "language_info": {
   "codemirror_mode": {
    "name": "ipython",
    "version": 3
   },
   "file_extension": ".py",
   "mimetype": "text/x-python",
   "name": "python",
   "nbconvert_exporter": "python",
   "pygments_lexer": "ipython3",
   "version": "3.11.1"
  }
 },
 "nbformat": 4,
 "nbformat_minor": 2
}
